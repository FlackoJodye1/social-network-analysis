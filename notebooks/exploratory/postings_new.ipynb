{
 "cells": [
  {
   "cell_type": "markdown",
   "metadata": {},
   "source": [
    "# Import needed libraries"
   ]
  },
  {
   "cell_type": "code",
   "execution_count": 1,
   "metadata": {},
   "outputs": [],
   "source": [
    "import numpy as np\n",
    "import networkx as nx\n",
    "import pandas as pd\n",
    "import matplotlib.pyplot as plt"
   ]
  },
  {
   "cell_type": "markdown",
   "metadata": {},
   "source": [
    "# Extract the postings data"
   ]
  },
  {
   "cell_type": "code",
   "execution_count": 5,
   "metadata": {},
   "outputs": [],
   "source": [
    "# Read data about all postings in the period 01.05.2019 - 31.05.2019\n",
    "postings1_df = pd.read_csv('Postings_01052019_15052019.csv', sep=';')\n",
    "postings2_df = pd.read_csv('Postings_16052019_31052019.csv', sep=';')"
   ]
  },
  {
   "cell_type": "code",
   "execution_count": 6,
   "metadata": {},
   "outputs": [],
   "source": [
    "# Create a unique dataframe\n",
    "postings_df = pd.concat([postings1_df, postings2_df])\n",
    "\n",
    "\n",
    "# Convert the creation date of the account to the age of the account\n",
    "postings_df['UserCreatedAt'] = 2024 - (pd.to_datetime(postings_df['UserCreatedAt']).dt.year)\n",
    "postings_df = postings_df.rename(columns={'UserCreatedAt': 'AccountAge'})\n"
   ]
  },
  {
   "cell_type": "code",
   "execution_count": 42,
   "metadata": {},
   "outputs": [
    {
     "data": {
      "text/html": [
       "<div>\n",
       "<style scoped>\n",
       "    .dataframe tbody tr th:only-of-type {\n",
       "        vertical-align: middle;\n",
       "    }\n",
       "\n",
       "    .dataframe tbody tr th {\n",
       "        vertical-align: top;\n",
       "    }\n",
       "\n",
       "    .dataframe thead th {\n",
       "        text-align: right;\n",
       "    }\n",
       "</style>\n",
       "<table border=\"1\" class=\"dataframe\">\n",
       "  <thead>\n",
       "    <tr style=\"text-align: right;\">\n",
       "      <th></th>\n",
       "      <th>ID_Posting</th>\n",
       "      <th>ID_Posting_Parent</th>\n",
       "      <th>ID_CommunityIdentity</th>\n",
       "      <th>PostingHeadline</th>\n",
       "      <th>PostingComment</th>\n",
       "      <th>PostingCreatedAt</th>\n",
       "      <th>ID_Article</th>\n",
       "      <th>ArticlePublishingDate</th>\n",
       "      <th>ArticleTitle</th>\n",
       "      <th>ArticleChannel</th>\n",
       "      <th>ArticleRessortName</th>\n",
       "      <th>UserCommunityName</th>\n",
       "      <th>UserGender</th>\n",
       "      <th>AccountAge</th>\n",
       "    </tr>\n",
       "  </thead>\n",
       "  <tbody>\n",
       "    <tr>\n",
       "      <th>0</th>\n",
       "      <td>1041073586</td>\n",
       "      <td>1.041073e+09</td>\n",
       "      <td>671476</td>\n",
       "      <td>Das hat gestern bereits der Voggenhuber angefü...</td>\n",
       "      <td>schieder hatte dem inhaltlich nichts entgegenz...</td>\n",
       "      <td>2019-05-01 18:21:15.127</td>\n",
       "      <td>2000102330973</td>\n",
       "      <td>2019-05-01 10:28:57.49</td>\n",
       "      <td>1. Mai in Wien: SPÖ fordert von Strache Rücktritt</td>\n",
       "      <td>Inland</td>\n",
       "      <td>Parteien</td>\n",
       "      <td>Ravenspower</td>\n",
       "      <td>NaN</td>\n",
       "      <td>6</td>\n",
       "    </tr>\n",
       "    <tr>\n",
       "      <th>1</th>\n",
       "      <td>1041073839</td>\n",
       "      <td>1.041073e+09</td>\n",
       "      <td>566938</td>\n",
       "      <td>NaN</td>\n",
       "      <td>...und meinen Bezirk bekommst du als Erbe mit.</td>\n",
       "      <td>2019-05-01 18:28:22.040</td>\n",
       "      <td>2000102330973</td>\n",
       "      <td>2019-05-01 10:28:57.49</td>\n",
       "      <td>1. Mai in Wien: SPÖ fordert von Strache Rücktritt</td>\n",
       "      <td>Inland</td>\n",
       "      <td>Parteien</td>\n",
       "      <td>AlphaRomeo</td>\n",
       "      <td>m</td>\n",
       "      <td>9</td>\n",
       "    </tr>\n",
       "    <tr>\n",
       "      <th>2</th>\n",
       "      <td>1041073872</td>\n",
       "      <td>1.041069e+09</td>\n",
       "      <td>669286</td>\n",
       "      <td>NaN</td>\n",
       "      <td>Nein, bei der ÖVP/FPÖ genauso passiert. Ich wo...</td>\n",
       "      <td>2019-05-01 18:29:05.533</td>\n",
       "      <td>2000102330973</td>\n",
       "      <td>2019-05-01 10:28:57.49</td>\n",
       "      <td>1. Mai in Wien: SPÖ fordert von Strache Rücktritt</td>\n",
       "      <td>Inland</td>\n",
       "      <td>Parteien</td>\n",
       "      <td>Hpolditsch</td>\n",
       "      <td>NaN</td>\n",
       "      <td>6</td>\n",
       "    </tr>\n",
       "    <tr>\n",
       "      <th>3</th>\n",
       "      <td>1041080734</td>\n",
       "      <td>1.041080e+09</td>\n",
       "      <td>671476</td>\n",
       "      <td>Sie haben doch nichts gefordert??</td>\n",
       "      <td>sie haben nur die regierung kritisiert. das di...</td>\n",
       "      <td>2019-05-01 22:37:56.010</td>\n",
       "      <td>2000102330973</td>\n",
       "      <td>2019-05-01 10:28:57.49</td>\n",
       "      <td>1. Mai in Wien: SPÖ fordert von Strache Rücktritt</td>\n",
       "      <td>Inland</td>\n",
       "      <td>Parteien</td>\n",
       "      <td>Ravenspower</td>\n",
       "      <td>NaN</td>\n",
       "      <td>6</td>\n",
       "    </tr>\n",
       "    <tr>\n",
       "      <th>4</th>\n",
       "      <td>1041080828</td>\n",
       "      <td>NaN</td>\n",
       "      <td>671476</td>\n",
       "      <td>Heute wäre der perfekte Tag für die SPÖ gewese...</td>\n",
       "      <td>ihr noch nicht erfülltes versprechen, den silb...</td>\n",
       "      <td>2019-05-01 22:42:06.310</td>\n",
       "      <td>2000102330973</td>\n",
       "      <td>2019-05-01 10:28:57.49</td>\n",
       "      <td>1. Mai in Wien: SPÖ fordert von Strache Rücktritt</td>\n",
       "      <td>Inland</td>\n",
       "      <td>Parteien</td>\n",
       "      <td>Ravenspower</td>\n",
       "      <td>NaN</td>\n",
       "      <td>6</td>\n",
       "    </tr>\n",
       "  </tbody>\n",
       "</table>\n",
       "</div>"
      ],
      "text/plain": [
       "   ID_Posting  ID_Posting_Parent  ID_CommunityIdentity  \\\n",
       "0  1041073586       1.041073e+09                671476   \n",
       "1  1041073839       1.041073e+09                566938   \n",
       "2  1041073872       1.041069e+09                669286   \n",
       "3  1041080734       1.041080e+09                671476   \n",
       "4  1041080828                NaN                671476   \n",
       "\n",
       "                                     PostingHeadline  \\\n",
       "0  Das hat gestern bereits der Voggenhuber angefü...   \n",
       "1                                                NaN   \n",
       "2                                                NaN   \n",
       "3                  Sie haben doch nichts gefordert??   \n",
       "4  Heute wäre der perfekte Tag für die SPÖ gewese...   \n",
       "\n",
       "                                      PostingComment         PostingCreatedAt  \\\n",
       "0  schieder hatte dem inhaltlich nichts entgegenz...  2019-05-01 18:21:15.127   \n",
       "1     ...und meinen Bezirk bekommst du als Erbe mit.  2019-05-01 18:28:22.040   \n",
       "2  Nein, bei der ÖVP/FPÖ genauso passiert. Ich wo...  2019-05-01 18:29:05.533   \n",
       "3  sie haben nur die regierung kritisiert. das di...  2019-05-01 22:37:56.010   \n",
       "4  ihr noch nicht erfülltes versprechen, den silb...  2019-05-01 22:42:06.310   \n",
       "\n",
       "      ID_Article   ArticlePublishingDate  \\\n",
       "0  2000102330973  2019-05-01 10:28:57.49   \n",
       "1  2000102330973  2019-05-01 10:28:57.49   \n",
       "2  2000102330973  2019-05-01 10:28:57.49   \n",
       "3  2000102330973  2019-05-01 10:28:57.49   \n",
       "4  2000102330973  2019-05-01 10:28:57.49   \n",
       "\n",
       "                                        ArticleTitle ArticleChannel  \\\n",
       "0  1. Mai in Wien: SPÖ fordert von Strache Rücktritt         Inland   \n",
       "1  1. Mai in Wien: SPÖ fordert von Strache Rücktritt         Inland   \n",
       "2  1. Mai in Wien: SPÖ fordert von Strache Rücktritt         Inland   \n",
       "3  1. Mai in Wien: SPÖ fordert von Strache Rücktritt         Inland   \n",
       "4  1. Mai in Wien: SPÖ fordert von Strache Rücktritt         Inland   \n",
       "\n",
       "  ArticleRessortName UserCommunityName UserGender  AccountAge  \n",
       "0           Parteien       Ravenspower        NaN           6  \n",
       "1           Parteien        AlphaRomeo          m           9  \n",
       "2           Parteien        Hpolditsch        NaN           6  \n",
       "3           Parteien       Ravenspower        NaN           6  \n",
       "4           Parteien       Ravenspower        NaN           6  "
      ]
     },
     "execution_count": 42,
     "metadata": {},
     "output_type": "execute_result"
    }
   ],
   "source": [
    "postings_df.head()"
   ]
  },
  {
   "cell_type": "code",
   "execution_count": 4,
   "metadata": {},
   "outputs": [
    {
     "name": "stdout",
     "output_type": "stream",
     "text": [
      "739094\n",
      "23925\n"
     ]
    }
   ],
   "source": [
    "# Let us see how many unique users we have in the dataset - they will be the nodes of the networks\n",
    "print(len(postings_df_full))\n",
    "print(len(postings_df_full['ID_CommunityIdentity'].unique()))"
   ]
  },
  {
   "cell_type": "markdown",
   "metadata": {},
   "source": [
    "## Remove rows with missing values"
   ]
  },
  {
   "cell_type": "code",
   "execution_count": 45,
   "metadata": {},
   "outputs": [
    {
     "name": "stdout",
     "output_type": "stream",
     "text": [
      "549669\n",
      "17859\n"
     ]
    }
   ],
   "source": [
    "postings_df = postings_df_full.dropna(subset=['UserGender']).copy()\n",
    "\n",
    "print(len(postings_df))\n",
    "print(len(postings_df['ID_CommunityIdentity'].unique()))\n"
   ]
  },
  {
   "cell_type": "markdown",
   "metadata": {},
   "source": [
    "Now we create a new dataframe in which we store the attributes for each user, that will be the attributes of each node in the networks. \n",
    "\n",
    "For this analysis we are intrested in:\n",
    "- gender of the user\n",
    "- age of the account"
   ]
  },
  {
   "cell_type": "code",
   "execution_count": 7,
   "metadata": {},
   "outputs": [
    {
     "data": {
      "text/plain": [
       "23925"
      ]
     },
     "execution_count": 7,
     "metadata": {},
     "output_type": "execute_result"
    }
   ],
   "source": [
    "# Extract nodes attributes and store them in a pandas df - assuming that one node is a user\n",
    "df_attributes = postings_df[['ID_CommunityIdentity', 'UserGender', 'AccountAge']].drop_duplicates()\n",
    "len(df_attributes)\n",
    "\n",
    "#len(df_attributes['UserCreatedAt'].unique())   # we have 21 differnt years of account creation"
   ]
  },
  {
   "cell_type": "code",
   "execution_count": 8,
   "metadata": {},
   "outputs": [
    {
     "data": {
      "text/html": [
       "<div>\n",
       "<style scoped>\n",
       "    .dataframe tbody tr th:only-of-type {\n",
       "        vertical-align: middle;\n",
       "    }\n",
       "\n",
       "    .dataframe tbody tr th {\n",
       "        vertical-align: top;\n",
       "    }\n",
       "\n",
       "    .dataframe thead th {\n",
       "        text-align: right;\n",
       "    }\n",
       "</style>\n",
       "<table border=\"1\" class=\"dataframe\">\n",
       "  <thead>\n",
       "    <tr style=\"text-align: right;\">\n",
       "      <th></th>\n",
       "      <th>ID_CommunityIdentity</th>\n",
       "      <th>UserGender</th>\n",
       "      <th>AccountAge</th>\n",
       "    </tr>\n",
       "  </thead>\n",
       "  <tbody>\n",
       "    <tr>\n",
       "      <th>0</th>\n",
       "      <td>671476</td>\n",
       "      <td>NaN</td>\n",
       "      <td>6</td>\n",
       "    </tr>\n",
       "    <tr>\n",
       "      <th>1</th>\n",
       "      <td>566938</td>\n",
       "      <td>m</td>\n",
       "      <td>9</td>\n",
       "    </tr>\n",
       "    <tr>\n",
       "      <th>2</th>\n",
       "      <td>669286</td>\n",
       "      <td>NaN</td>\n",
       "      <td>6</td>\n",
       "    </tr>\n",
       "    <tr>\n",
       "      <th>6</th>\n",
       "      <td>523527</td>\n",
       "      <td>m</td>\n",
       "      <td>11</td>\n",
       "    </tr>\n",
       "    <tr>\n",
       "      <th>7</th>\n",
       "      <td>74674</td>\n",
       "      <td>NaN</td>\n",
       "      <td>17</td>\n",
       "    </tr>\n",
       "  </tbody>\n",
       "</table>\n",
       "</div>"
      ],
      "text/plain": [
       "   ID_CommunityIdentity UserGender  AccountAge\n",
       "0                671476        NaN           6\n",
       "1                566938          m           9\n",
       "2                669286        NaN           6\n",
       "6                523527          m          11\n",
       "7                 74674        NaN          17"
      ]
     },
     "execution_count": 8,
     "metadata": {},
     "output_type": "execute_result"
    }
   ],
   "source": [
    "df_attributes.head()"
   ]
  },
  {
   "cell_type": "code",
   "execution_count": 17,
   "metadata": {},
   "outputs": [
    {
     "data": {
      "text/html": [
       "<div>\n",
       "<style scoped>\n",
       "    .dataframe tbody tr th:only-of-type {\n",
       "        vertical-align: middle;\n",
       "    }\n",
       "\n",
       "    .dataframe tbody tr th {\n",
       "        vertical-align: top;\n",
       "    }\n",
       "\n",
       "    .dataframe thead th {\n",
       "        text-align: right;\n",
       "    }\n",
       "</style>\n",
       "<table border=\"1\" class=\"dataframe\">\n",
       "  <thead>\n",
       "    <tr style=\"text-align: right;\">\n",
       "      <th></th>\n",
       "      <th>ID_CommunityIdentity</th>\n",
       "      <th>UserGender</th>\n",
       "      <th>AccountAge</th>\n",
       "    </tr>\n",
       "  </thead>\n",
       "  <tbody>\n",
       "    <tr>\n",
       "      <th>0</th>\n",
       "      <td>671476</td>\n",
       "      <td>NaN</td>\n",
       "      <td>6</td>\n",
       "    </tr>\n",
       "    <tr>\n",
       "      <th>1</th>\n",
       "      <td>566938</td>\n",
       "      <td>m</td>\n",
       "      <td>9</td>\n",
       "    </tr>\n",
       "    <tr>\n",
       "      <th>2</th>\n",
       "      <td>669286</td>\n",
       "      <td>NaN</td>\n",
       "      <td>6</td>\n",
       "    </tr>\n",
       "    <tr>\n",
       "      <th>6</th>\n",
       "      <td>523527</td>\n",
       "      <td>m</td>\n",
       "      <td>11</td>\n",
       "    </tr>\n",
       "    <tr>\n",
       "      <th>7</th>\n",
       "      <td>74674</td>\n",
       "      <td>NaN</td>\n",
       "      <td>17</td>\n",
       "    </tr>\n",
       "  </tbody>\n",
       "</table>\n",
       "</div>"
      ],
      "text/plain": [
       "   ID_CommunityIdentity UserGender  AccountAge\n",
       "0                671476        NaN           6\n",
       "1                566938          m           9\n",
       "2                669286        NaN           6\n",
       "6                523527          m          11\n",
       "7                 74674        NaN          17"
      ]
     },
     "execution_count": 17,
     "metadata": {},
     "output_type": "execute_result"
    }
   ],
   "source": [
    "df_attributes.head()"
   ]
  },
  {
   "cell_type": "markdown",
   "metadata": {},
   "source": [
    "## Filter data according to the Article Channel"
   ]
  },
  {
   "cell_type": "markdown",
   "metadata": {},
   "source": [
    "The idea is to measure assortative mixing by gender and possibly the age of the account considering the different topics of the articles under which users posted a comment. "
   ]
  },
  {
   "cell_type": "code",
   "execution_count": 9,
   "metadata": {},
   "outputs": [
    {
     "name": "stdout",
     "output_type": "stream",
     "text": [
      "['Inland' 'Meinung' 'International' 'Sport' 'Panorama' 'Wirtschaft'\n",
      " 'Gesundheit' 'Web' 'Kultur' 'Bildung' 'Wissenschaft' 'Immobilien' 'User'\n",
      " 'dieStandard' 'Etat' 'Zukunft' 'Karriere' 'Lifestyle' 'Diverses' 'Reisen'\n",
      " 'AutoMobil' 'Familie']\n",
      "22\n"
     ]
    }
   ],
   "source": [
    "# Get the list of unique channels\n",
    "channels = postings_df['ArticleChannel'].unique()\n",
    "\n",
    "print(channels)\n",
    "print(len(channels))\n"
   ]
  },
  {
   "cell_type": "code",
   "execution_count": 10,
   "metadata": {},
   "outputs": [
    {
     "name": "stdout",
     "output_type": "stream",
     "text": [
      "['Parteien' 'Sachpolitik' 'SPÖ' 'Sozialpolitik & Armut' 'Inland'\n",
      " 'Heer & Zivildienst' 'Niederösterreich' 'Neos' 'Rechtsextremismus' 'ÖVP'\n",
      " 'Nationalsozialismus' 'Koalition' 'Gesundheitspolitik'\n",
      " 'Religion & Politik' 'Österreich und EU' 'Parlament' 'Tirol' 'FPÖ'\n",
      " 'Integrationspolitik' 'Oberösterreich' 'Salzburg' 'Phänomen Hass'\n",
      " 'Pensionen' 'Öffentlicher Dienst' 'Staat & Justiz' 'Bundespräsident'\n",
      " 'Standardabweichung' 'Grüne' 'Verfassungsschutz' 'Nationalrat'\n",
      " 'Liste Jetzt' 'Kärnten' 'Bundesländer' 'Sicherheitspolitik' 'Eurofighter'\n",
      " 'Burgenland' 'Wiener Politik' 'Vorarlberg' 'Kulturpolitik'\n",
      " 'Lobbying & Korruption' 'Politische Umfragen'\n",
      " 'Blog: Stadt, Land, Politik'\n",
      " 'EU-Wahl 2019 in Österreich: Wahlergebnisse und -gr'\n",
      " 'Nationalratswahl 2017']\n",
      "44\n"
     ]
    }
   ],
   "source": [
    "# Get the list of unique sub_channels for inlands\n",
    "sub_channels = postings_df[postings_df['ArticleChannel'] == 'Inland']['ArticleRessortName'].unique()\n",
    "\n",
    "print(sub_channels)\n",
    "print(len(sub_channels))"
   ]
  },
  {
   "cell_type": "markdown",
   "metadata": {},
   "source": [
    "Since they are all related more or less to poliics we will use 'Inland' to study assortive mixing by gender and age in politics. \n",
    "A further break down of the Inland channel could be considered, but way this implies a more specific analysis \n",
    "\n",
    "(seen the results I assume that Inland stands for polica interna)"
   ]
  },
  {
   "cell_type": "code",
   "execution_count": 11,
   "metadata": {},
   "outputs": [],
   "source": [
    "# Group the DataFrame by the 'ArticleChannel' column\n",
    "grouped_df = postings_df.groupby('ArticleChannel')\n",
    "\n",
    "# Create a dictionary to store DataFrames based on ArticleChannel\n",
    "channel_dfs = {}\n",
    "\n",
    "# Iterate through the grouped DataFrame and create individual DataFrames\n",
    "for channel, channel_group in grouped_df:\n",
    "    channel_dfs[channel] = channel_group.copy()"
   ]
  },
  {
   "cell_type": "code",
   "execution_count": 12,
   "metadata": {},
   "outputs": [
    {
     "name": "stdout",
     "output_type": "stream",
     "text": [
      "Shape of DataFrame for AutoMobil: (6366, 14)\n",
      "Shape of DataFrame for Bildung: (7942, 14)\n",
      "Shape of DataFrame for Diverses: (4597, 14)\n",
      "Shape of DataFrame for Etat: (34890, 14)\n",
      "Shape of DataFrame for Familie: (2658, 14)\n",
      "Shape of DataFrame for Gesundheit: (10490, 14)\n",
      "Shape of DataFrame for Immobilien: (5071, 14)\n",
      "Shape of DataFrame for Inland: (188069, 14)\n",
      "Shape of DataFrame for International: (55911, 14)\n",
      "Shape of DataFrame for Karriere: (2459, 14)\n",
      "Shape of DataFrame for Kultur: (24013, 14)\n",
      "Shape of DataFrame for Lifestyle: (11124, 14)\n",
      "Shape of DataFrame for Meinung: (96008, 14)\n",
      "Shape of DataFrame for Panorama: (98391, 14)\n",
      "Shape of DataFrame for Reisen: (3285, 14)\n",
      "Shape of DataFrame for Sport: (40396, 14)\n",
      "Shape of DataFrame for User: (12760, 14)\n",
      "Shape of DataFrame for Web: (59589, 14)\n",
      "Shape of DataFrame for Wirtschaft: (50755, 14)\n",
      "Shape of DataFrame for Wissenschaft: (12565, 14)\n",
      "Shape of DataFrame for Zukunft: (4228, 14)\n",
      "Shape of DataFrame for dieStandard: (7527, 14)\n"
     ]
    }
   ],
   "source": [
    "# Iterate through the dictionary and print the shape of each DataFrame\n",
    "for channel, df in channel_dfs.items():\n",
    "    print(f\"Shape of DataFrame for {channel}: {df.shape}\")"
   ]
  },
  {
   "cell_type": "markdown",
   "metadata": {},
   "source": [
    "Measure the index for a subset of topics:\n",
    "- Sport\n",
    "- 'Wirtschaft' - Economy\n",
    "- 'Kultur' - Culture\n",
    "- 'Bildung' - Education\n",
    "- 'Karriere' - Career\n",
    "- Family\n",
    "- Inland (for politics)"
   ]
  },
  {
   "cell_type": "code",
   "execution_count": 21,
   "metadata": {},
   "outputs": [],
   "source": [
    "selected_channels = ['Wirtschaft', 'Sport', 'Kultur', 'Bildung', 'Karriere', 'Familie', 'Inland']    # remember to add Inland\n",
    "filtered_dict = {k: v for k, v in channel_dfs.items() if k in selected_channels}"
   ]
  },
  {
   "cell_type": "markdown",
   "metadata": {},
   "source": [
    "## Build the networks"
   ]
  },
  {
   "cell_type": "markdown",
   "metadata": {},
   "source": [
    "We build a weighted and directed network for each dataframe in the above dictionary"
   ]
  },
  {
   "cell_type": "code",
   "execution_count": 22,
   "metadata": {},
   "outputs": [],
   "source": [
    "# Create dictionaries to store edge lists and weighted edge lists\n",
    "edge_lists = {}\n",
    "weighted_edge_lists = {}\n",
    "\n",
    "# Create a dictionary to store df containing source (repliyng user), target (replied user) and weight (number of replies)\n",
    "edges_dfs = {} \n",
    "\n",
    "\n",
    "# Iterate through the dictionary of DataFrames\n",
    "for channel, df in filtered_dict.items():\n",
    "    # Obtain the list of edges for the current DataFrame\n",
    "    edgeList = [\n",
    "        [post.ID_CommunityIdentity, next(iter(df[df.ID_Posting == post.ID_Posting_Parent].ID_CommunityIdentity))]\n",
    "        for idx, post in df.iterrows()\n",
    "        if not pd.isna(post.ID_Posting_Parent)\n",
    "    ]\n",
    "\n",
    "    # Obtain the weights for the edges\n",
    "    weightedEdgeList = [(edge[0], edge[1], edgeList.count(edge)) for edge in edgeList]\n",
    "    weightedEdgeList = list(set(weightedEdgeList))\n",
    "\n",
    "    # Store the lists for each DataFrame in the dictionaries\n",
    "    edge_lists[channel] = edgeList\n",
    "    weighted_edge_lists[channel] = weightedEdgeList\n",
    "\n",
    "    # Create a DataFrame for the current list of edges\n",
    "    edges_df = pd.DataFrame(weightedEdgeList, columns=['source', 'target', 'weight'])         # needed for creating the network\n",
    "    edges_dfs[channel] = edges_df\n",
    "\n"
   ]
  },
  {
   "cell_type": "code",
   "execution_count": 23,
   "metadata": {},
   "outputs": [],
   "source": [
    "# Create and store a graph for each DataFrame\n",
    "graphs = {}\n",
    "for channel_name, df in edges_dfs.items():\n",
    "    G = nx.from_pandas_edgelist(df, 'source', 'target', edge_attr='weight', create_using=nx.DiGraph())\n",
    "\n",
    "\n",
    "    for _, row in df_attributes.iterrows():\n",
    "        if row['ID_CommunityIdentity'] in G:\n",
    "            if row['UserGender'] in ['m', 'f'] and row['AccountAge'] > 0:\n",
    "                nx.set_node_attributes(G, {row['ID_CommunityIdentity']: row['UserGender']}, 'gender')\n",
    "                nx.set_node_attributes(G, {row['ID_CommunityIdentity']: row['AccountAge']}, 'age')\n",
    "        \n",
    "    \n",
    "    # To add attributes\n",
    "    #G.add_nodes_from((n, dict(d)) for n, d in df_attributes.iterrows())\n",
    "    \n",
    "    graphs[channel_name] = G\n"
   ]
  },
  {
   "cell_type": "code",
   "execution_count": 24,
   "metadata": {},
   "outputs": [
    {
     "name": "stdout",
     "output_type": "stream",
     "text": [
      "Channel: Bildung\n",
      "Assortative Mixing by Gender: 0.0387\n",
      "Assortative Mixing by Age: 0.0306\n",
      "Assortive mixing by degree: -0.0164\n",
      "------------------------------------------------------\n",
      "Channel: Familie\n",
      "Assortative Mixing by Gender: -0.0164\n",
      "Assortative Mixing by Age: 0.0032\n",
      "Assortive mixing by degree: -0.0198\n",
      "------------------------------------------------------\n",
      "Channel: Inland\n",
      "Assortative Mixing by Gender: 0.0137\n",
      "Assortative Mixing by Age: 0.0120\n",
      "Assortive mixing by degree: -0.0293\n",
      "------------------------------------------------------\n",
      "Channel: Karriere\n",
      "Assortative Mixing by Gender: 0.0365\n",
      "Assortative Mixing by Age: 0.0193\n",
      "Assortive mixing by degree: -0.0760\n",
      "------------------------------------------------------\n",
      "Channel: Kultur\n",
      "Assortative Mixing by Gender: 0.0394\n",
      "Assortative Mixing by Age: 0.0220\n",
      "Assortive mixing by degree: -0.0210\n",
      "------------------------------------------------------\n",
      "Channel: Sport\n",
      "Assortative Mixing by Gender: 0.0228\n",
      "Assortative Mixing by Age: 0.0144\n",
      "Assortive mixing by degree: -0.0156\n",
      "------------------------------------------------------\n",
      "Channel: Wirtschaft\n",
      "Assortative Mixing by Gender: 0.0190\n",
      "Assortative Mixing by Age: 0.0141\n",
      "Assortive mixing by degree: -0.0114\n",
      "------------------------------------------------------\n"
     ]
    }
   ],
   "source": [
    "# Iterate through the dictionary of graphs\n",
    "for channel, G in graphs.items():\n",
    "    # Compute assortative mixing by gender and age\n",
    "    assortativity_gender = nx.attribute_assortativity_coefficient(G, attribute='gender')\n",
    "    assortativity_age = nx.attribute_assortativity_coefficient(G, attribute='age')\n",
    "    degree_assortativity = nx.degree_assortativity_coefficient(G)\n",
    "\n",
    "    # Print results with channel name\n",
    "    print(f\"Channel: {channel}\")\n",
    "    print(f\"Assortative Mixing by Gender: {assortativity_gender:.4f}\")\n",
    "    print(f\"Assortative Mixing by Age: {assortativity_age:.4f}\")\n",
    "    print(f\"Assortive mixing by degree: {degree_assortativity:.4f}\")\n",
    "    print('------------------------------------------------------')"
   ]
  },
  {
   "cell_type": "markdown",
   "metadata": {},
   "source": [
    "----------------------------------------------------------------------------------------------------------------------------------------------------------"
   ]
  },
  {
   "cell_type": "code",
   "execution_count": null,
   "metadata": {},
   "outputs": [],
   "source": [
    "print(nx.degree_assortativity_coefficient(G, x='out', y='in', weight='weight'))\n",
    "# try different configuration of 'in' and 'out'\"sna_python_handson (1).ipynb\"\n",
    "\n",
    "print(nx.attribute_assortativity_coefficient(G, attribute='UserGender', nodes=None))\n",
    "\n",
    "print(nx.attribute_assortativity_coefficient(G, attribute='UserCreatedAt', nodes=None))\n"
   ]
  },
  {
   "cell_type": "code",
   "execution_count": 32,
   "metadata": {},
   "outputs": [
    {
     "ename": "KeyboardInterrupt",
     "evalue": "",
     "output_type": "error",
     "traceback": [
      "\u001b[1;31m---------------------------------------------------------------------------\u001b[0m",
      "\u001b[1;31mKeyboardInterrupt\u001b[0m                         Traceback (most recent call last)",
      "Cell \u001b[1;32mIn[32], line 2\u001b[0m\n\u001b[0;32m      1\u001b[0m fig \u001b[38;5;241m=\u001b[39m plt\u001b[38;5;241m.\u001b[39mfigure(figsize\u001b[38;5;241m=\u001b[39m(\u001b[38;5;241m50\u001b[39m,\u001b[38;5;241m50\u001b[39m))\n\u001b[1;32m----> 2\u001b[0m \u001b[43mnx\u001b[49m\u001b[38;5;241;43m.\u001b[39;49m\u001b[43mdraw_spring\u001b[49m\u001b[43m(\u001b[49m\u001b[43mgraphs\u001b[49m\u001b[43m[\u001b[49m\u001b[38;5;124;43m'\u001b[39;49m\u001b[38;5;124;43mWirtschaft\u001b[39;49m\u001b[38;5;124;43m'\u001b[39;49m\u001b[43m]\u001b[49m\u001b[43m,\u001b[49m\u001b[43m \u001b[49m\u001b[43mwith_labels\u001b[49m\u001b[38;5;241;43m=\u001b[39;49m\u001b[38;5;28;43;01mTrue\u001b[39;49;00m\u001b[43m)\u001b[49m\n\u001b[0;32m      3\u001b[0m plt\u001b[38;5;241m.\u001b[39mshow()\n",
      "File \u001b[1;32mc:\\Users\\maria\\anaconda3\\envs\\SNA_env\\lib\\site-packages\\networkx\\drawing\\nx_pylab.py:1428\u001b[0m, in \u001b[0;36mdraw_spring\u001b[1;34m(G, **kwargs)\u001b[0m\n\u001b[0;32m   1388\u001b[0m \u001b[38;5;28;01mdef\u001b[39;00m \u001b[38;5;21mdraw_spring\u001b[39m(G, \u001b[38;5;241m*\u001b[39m\u001b[38;5;241m*\u001b[39mkwargs):\n\u001b[0;32m   1389\u001b[0m \u001b[38;5;250m    \u001b[39m\u001b[38;5;124;03m\"\"\"Draw the graph `G` with a spring layout.\u001b[39;00m\n\u001b[0;32m   1390\u001b[0m \n\u001b[0;32m   1391\u001b[0m \u001b[38;5;124;03m    This is a convenience function equivalent to::\u001b[39;00m\n\u001b[1;32m   (...)\u001b[0m\n\u001b[0;32m   1426\u001b[0m \u001b[38;5;124;03m    :func:`~networkx.drawing.layout.spring_layout`\u001b[39;00m\n\u001b[0;32m   1427\u001b[0m \u001b[38;5;124;03m    \"\"\"\u001b[39;00m\n\u001b[1;32m-> 1428\u001b[0m     draw(G, \u001b[43mspring_layout\u001b[49m\u001b[43m(\u001b[49m\u001b[43mG\u001b[49m\u001b[43m)\u001b[49m, \u001b[38;5;241m*\u001b[39m\u001b[38;5;241m*\u001b[39mkwargs)\n",
      "File \u001b[1;32mc:\\Users\\maria\\anaconda3\\envs\\SNA_env\\lib\\site-packages\\networkx\\utils\\decorators.py:770\u001b[0m, in \u001b[0;36margmap.__call__.<locals>.func\u001b[1;34m(_argmap__wrapper, *args, **kwargs)\u001b[0m\n\u001b[0;32m    769\u001b[0m \u001b[38;5;28;01mdef\u001b[39;00m \u001b[38;5;21mfunc\u001b[39m(\u001b[38;5;241m*\u001b[39margs, __wrapper\u001b[38;5;241m=\u001b[39m\u001b[38;5;28;01mNone\u001b[39;00m, \u001b[38;5;241m*\u001b[39m\u001b[38;5;241m*\u001b[39mkwargs):\n\u001b[1;32m--> 770\u001b[0m     \u001b[38;5;28;01mreturn\u001b[39;00m argmap\u001b[38;5;241m.\u001b[39m_lazy_compile(__wrapper)(\u001b[38;5;241m*\u001b[39margs, \u001b[38;5;241m*\u001b[39m\u001b[38;5;241m*\u001b[39mkwargs)\n",
      "File \u001b[1;32m<class 'networkx.utils.decorators.argmap'> compilation 8:4\u001b[0m, in \u001b[0;36margmap_spring_layout_5\u001b[1;34m(G, k, pos, fixed, iterations, threshold, weight, scale, center, dim, seed)\u001b[0m\n\u001b[0;32m      2\u001b[0m \u001b[38;5;28;01mimport\u001b[39;00m \u001b[38;5;21;01mcollections\u001b[39;00m\n\u001b[0;32m      3\u001b[0m \u001b[38;5;28;01mimport\u001b[39;00m \u001b[38;5;21;01mgzip\u001b[39;00m\n\u001b[1;32m----> 4\u001b[0m \u001b[38;5;28;01mimport\u001b[39;00m \u001b[38;5;21;01minspect\u001b[39;00m\n\u001b[0;32m      5\u001b[0m \u001b[38;5;28;01mimport\u001b[39;00m \u001b[38;5;21;01mitertools\u001b[39;00m\n\u001b[0;32m      6\u001b[0m \u001b[38;5;28;01mimport\u001b[39;00m \u001b[38;5;21;01mre\u001b[39;00m\n",
      "File \u001b[1;32mc:\\Users\\maria\\anaconda3\\envs\\SNA_env\\lib\\site-packages\\networkx\\drawing\\layout.py:482\u001b[0m, in \u001b[0;36mspring_layout\u001b[1;34m(G, k, pos, fixed, iterations, threshold, weight, scale, center, dim, seed)\u001b[0m\n\u001b[0;32m    480\u001b[0m         nnodes, _ \u001b[38;5;241m=\u001b[39m A\u001b[38;5;241m.\u001b[39mshape\n\u001b[0;32m    481\u001b[0m         k \u001b[38;5;241m=\u001b[39m dom_size \u001b[38;5;241m/\u001b[39m np\u001b[38;5;241m.\u001b[39msqrt(nnodes)\n\u001b[1;32m--> 482\u001b[0m     pos \u001b[38;5;241m=\u001b[39m \u001b[43m_sparse_fruchterman_reingold\u001b[49m\u001b[43m(\u001b[49m\n\u001b[0;32m    483\u001b[0m \u001b[43m        \u001b[49m\u001b[43mA\u001b[49m\u001b[43m,\u001b[49m\u001b[43m \u001b[49m\u001b[43mk\u001b[49m\u001b[43m,\u001b[49m\u001b[43m \u001b[49m\u001b[43mpos_arr\u001b[49m\u001b[43m,\u001b[49m\u001b[43m \u001b[49m\u001b[43mfixed\u001b[49m\u001b[43m,\u001b[49m\u001b[43m \u001b[49m\u001b[43miterations\u001b[49m\u001b[43m,\u001b[49m\u001b[43m \u001b[49m\u001b[43mthreshold\u001b[49m\u001b[43m,\u001b[49m\u001b[43m \u001b[49m\u001b[43mdim\u001b[49m\u001b[43m,\u001b[49m\u001b[43m \u001b[49m\u001b[43mseed\u001b[49m\n\u001b[0;32m    484\u001b[0m \u001b[43m    \u001b[49m\u001b[43m)\u001b[49m\n\u001b[0;32m    485\u001b[0m \u001b[38;5;28;01mexcept\u001b[39;00m \u001b[38;5;167;01mValueError\u001b[39;00m:\n\u001b[0;32m    486\u001b[0m     A \u001b[38;5;241m=\u001b[39m nx\u001b[38;5;241m.\u001b[39mto_numpy_array(G, weight\u001b[38;5;241m=\u001b[39mweight)\n",
      "File \u001b[1;32mc:\\Users\\maria\\anaconda3\\envs\\SNA_env\\lib\\site-packages\\networkx\\utils\\decorators.py:770\u001b[0m, in \u001b[0;36margmap.__call__.<locals>.func\u001b[1;34m(_argmap__wrapper, *args, **kwargs)\u001b[0m\n\u001b[0;32m    769\u001b[0m \u001b[38;5;28;01mdef\u001b[39;00m \u001b[38;5;21mfunc\u001b[39m(\u001b[38;5;241m*\u001b[39margs, __wrapper\u001b[38;5;241m=\u001b[39m\u001b[38;5;28;01mNone\u001b[39;00m, \u001b[38;5;241m*\u001b[39m\u001b[38;5;241m*\u001b[39mkwargs):\n\u001b[1;32m--> 770\u001b[0m     \u001b[38;5;28;01mreturn\u001b[39;00m argmap\u001b[38;5;241m.\u001b[39m_lazy_compile(__wrapper)(\u001b[38;5;241m*\u001b[39margs, \u001b[38;5;241m*\u001b[39m\u001b[38;5;241m*\u001b[39mkwargs)\n",
      "File \u001b[1;32m<class 'networkx.utils.decorators.argmap'> compilation 12:4\u001b[0m, in \u001b[0;36margmap__sparse_fruchterman_reingold_9\u001b[1;34m(A, k, pos, fixed, iterations, threshold, dim, seed)\u001b[0m\n\u001b[0;32m      2\u001b[0m \u001b[38;5;28;01mimport\u001b[39;00m \u001b[38;5;21;01mcollections\u001b[39;00m\n\u001b[0;32m      3\u001b[0m \u001b[38;5;28;01mimport\u001b[39;00m \u001b[38;5;21;01mgzip\u001b[39;00m\n\u001b[1;32m----> 4\u001b[0m \u001b[38;5;28;01mimport\u001b[39;00m \u001b[38;5;21;01minspect\u001b[39;00m\n\u001b[0;32m      5\u001b[0m \u001b[38;5;28;01mimport\u001b[39;00m \u001b[38;5;21;01mitertools\u001b[39;00m\n\u001b[0;32m      6\u001b[0m \u001b[38;5;28;01mimport\u001b[39;00m \u001b[38;5;21;01mre\u001b[39;00m\n",
      "File \u001b[1;32mc:\\Users\\maria\\anaconda3\\envs\\SNA_env\\lib\\site-packages\\networkx\\drawing\\layout.py:623\u001b[0m, in \u001b[0;36m_sparse_fruchterman_reingold\u001b[1;34m(A, k, pos, fixed, iterations, threshold, dim, seed)\u001b[0m\n\u001b[0;32m    621\u001b[0m     Ai \u001b[38;5;241m=\u001b[39m A\u001b[38;5;241m.\u001b[39mgetrowview(i)\u001b[38;5;241m.\u001b[39mtoarray()  \u001b[38;5;66;03m# TODO: revisit w/ sparse 1D container\u001b[39;00m\n\u001b[0;32m    622\u001b[0m     \u001b[38;5;66;03m# displacement \"force\"\u001b[39;00m\n\u001b[1;32m--> 623\u001b[0m     displacement[:, i] \u001b[38;5;241m+\u001b[39m\u001b[38;5;241m=\u001b[39m \u001b[43m(\u001b[49m\n\u001b[0;32m    624\u001b[0m \u001b[43m        \u001b[49m\u001b[43mdelta\u001b[49m\u001b[43m \u001b[49m\u001b[38;5;241;43m*\u001b[39;49m\u001b[43m \u001b[49m\u001b[43m(\u001b[49m\u001b[43mk\u001b[49m\u001b[43m \u001b[49m\u001b[38;5;241;43m*\u001b[39;49m\u001b[43m \u001b[49m\u001b[43mk\u001b[49m\u001b[43m \u001b[49m\u001b[38;5;241;43m/\u001b[39;49m\u001b[43m \u001b[49m\u001b[43mdistance\u001b[49m\u001b[38;5;241;43m*\u001b[39;49m\u001b[38;5;241;43m*\u001b[39;49m\u001b[38;5;241;43m2\u001b[39;49m\u001b[43m \u001b[49m\u001b[38;5;241;43m-\u001b[39;49m\u001b[43m \u001b[49m\u001b[43mAi\u001b[49m\u001b[43m \u001b[49m\u001b[38;5;241;43m*\u001b[39;49m\u001b[43m \u001b[49m\u001b[43mdistance\u001b[49m\u001b[43m \u001b[49m\u001b[38;5;241;43m/\u001b[39;49m\u001b[43m \u001b[49m\u001b[43mk\u001b[49m\u001b[43m)\u001b[49m\n\u001b[0;32m    625\u001b[0m \u001b[43m    \u001b[49m\u001b[43m)\u001b[49m\u001b[38;5;241;43m.\u001b[39;49m\u001b[43msum\u001b[49m\u001b[43m(\u001b[49m\u001b[43maxis\u001b[49m\u001b[38;5;241;43m=\u001b[39;49m\u001b[38;5;241;43m1\u001b[39;49m\u001b[43m)\u001b[49m\n\u001b[0;32m    626\u001b[0m \u001b[38;5;66;03m# update positions\u001b[39;00m\n\u001b[0;32m    627\u001b[0m length \u001b[38;5;241m=\u001b[39m np\u001b[38;5;241m.\u001b[39msqrt((displacement\u001b[38;5;241m*\u001b[39m\u001b[38;5;241m*\u001b[39m\u001b[38;5;241m2\u001b[39m)\u001b[38;5;241m.\u001b[39msum(axis\u001b[38;5;241m=\u001b[39m\u001b[38;5;241m0\u001b[39m))\n",
      "File \u001b[1;32mc:\\Users\\maria\\anaconda3\\envs\\SNA_env\\lib\\site-packages\\numpy\\core\\_methods.py:47\u001b[0m, in \u001b[0;36m_sum\u001b[1;34m(a, axis, dtype, out, keepdims, initial, where)\u001b[0m\n\u001b[0;32m     43\u001b[0m \u001b[38;5;28;01mdef\u001b[39;00m \u001b[38;5;21m_amin\u001b[39m(a, axis\u001b[38;5;241m=\u001b[39m\u001b[38;5;28;01mNone\u001b[39;00m, out\u001b[38;5;241m=\u001b[39m\u001b[38;5;28;01mNone\u001b[39;00m, keepdims\u001b[38;5;241m=\u001b[39m\u001b[38;5;28;01mFalse\u001b[39;00m,\n\u001b[0;32m     44\u001b[0m           initial\u001b[38;5;241m=\u001b[39m_NoValue, where\u001b[38;5;241m=\u001b[39m\u001b[38;5;28;01mTrue\u001b[39;00m):\n\u001b[0;32m     45\u001b[0m     \u001b[38;5;28;01mreturn\u001b[39;00m umr_minimum(a, axis, \u001b[38;5;28;01mNone\u001b[39;00m, out, keepdims, initial, where)\n\u001b[1;32m---> 47\u001b[0m \u001b[38;5;28;01mdef\u001b[39;00m \u001b[38;5;21m_sum\u001b[39m(a, axis\u001b[38;5;241m=\u001b[39m\u001b[38;5;28;01mNone\u001b[39;00m, dtype\u001b[38;5;241m=\u001b[39m\u001b[38;5;28;01mNone\u001b[39;00m, out\u001b[38;5;241m=\u001b[39m\u001b[38;5;28;01mNone\u001b[39;00m, keepdims\u001b[38;5;241m=\u001b[39m\u001b[38;5;28;01mFalse\u001b[39;00m,\n\u001b[0;32m     48\u001b[0m          initial\u001b[38;5;241m=\u001b[39m_NoValue, where\u001b[38;5;241m=\u001b[39m\u001b[38;5;28;01mTrue\u001b[39;00m):\n\u001b[0;32m     49\u001b[0m     \u001b[38;5;28;01mreturn\u001b[39;00m umr_sum(a, axis, dtype, out, keepdims, initial, where)\n\u001b[0;32m     51\u001b[0m \u001b[38;5;28;01mdef\u001b[39;00m \u001b[38;5;21m_prod\u001b[39m(a, axis\u001b[38;5;241m=\u001b[39m\u001b[38;5;28;01mNone\u001b[39;00m, dtype\u001b[38;5;241m=\u001b[39m\u001b[38;5;28;01mNone\u001b[39;00m, out\u001b[38;5;241m=\u001b[39m\u001b[38;5;28;01mNone\u001b[39;00m, keepdims\u001b[38;5;241m=\u001b[39m\u001b[38;5;28;01mFalse\u001b[39;00m,\n\u001b[0;32m     52\u001b[0m           initial\u001b[38;5;241m=\u001b[39m_NoValue, where\u001b[38;5;241m=\u001b[39m\u001b[38;5;28;01mTrue\u001b[39;00m):\n",
      "\u001b[1;31mKeyboardInterrupt\u001b[0m: "
     ]
    },
    {
     "data": {
      "text/plain": [
       "<Figure size 5000x5000 with 0 Axes>"
      ]
     },
     "metadata": {},
     "output_type": "display_data"
    }
   ],
   "source": [
    "fig = plt.figure(figsize=(50,50))\n",
    "nx.draw_spring(graphs['Wirtschaft'])\n",
    "plt.show()"
   ]
  },
  {
   "cell_type": "markdown",
   "metadata": {},
   "source": [
    "## Votes network"
   ]
  }
 ],
 "metadata": {
  "kernelspec": {
   "display_name": "SNA_env",
   "language": "python",
   "name": "python3"
  },
  "language_info": {
   "codemirror_mode": {
    "name": "ipython",
    "version": 3
   },
   "file_extension": ".py",
   "mimetype": "text/x-python",
   "name": "python",
   "nbconvert_exporter": "python",
   "pygments_lexer": "ipython3",
   "version": "3.10.13"
  }
 },
 "nbformat": 4,
 "nbformat_minor": 2
}
