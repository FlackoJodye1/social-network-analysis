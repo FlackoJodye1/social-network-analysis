{
 "cells": [
  {
   "cell_type": "code",
   "execution_count": 1,
   "metadata": {
    "collapsed": true
   },
   "outputs": [],
   "source": [
    "import numpy as np\n",
    "import pandas as pd\n",
    "import networkx as nx\n",
    "from pathlib import Path\n",
    "import matplotlib.pyplot as plt\n",
    "# import seaborn as sns\n",
    "\n",
    "import sys\n",
    "sys.path.append(\"../../\") # root-dir of the project\n",
    "from src.features.util import calculate_key_figures"
   ]
  },
  {
   "cell_type": "markdown",
   "source": [
    "# Setup & Import"
   ],
   "metadata": {
    "collapsed": false
   }
  },
  {
   "cell_type": "markdown",
   "source": [
    "Paths and filenames"
   ],
   "metadata": {
    "collapsed": false
   }
  },
  {
   "cell_type": "code",
   "execution_count": 2,
   "outputs": [],
   "source": [
    "DATA_DIR = Path(\"../../data/\")\n",
    "filename_relationships = \"Following_Ignoring_Relationships_01052019_31052019.csv\"\n",
    "filename_users = \"user.csv\"\n",
    "\n",
    "# use this output-path for saving figures\n",
    "FIG_OUTPUT_DIR = Path(\"../../reports/figures/follows/\")"
   ],
   "metadata": {
    "collapsed": false
   }
  },
  {
   "cell_type": "markdown",
   "source": [
    "Load the data"
   ],
   "metadata": {
    "collapsed": false
   }
  },
  {
   "cell_type": "code",
   "execution_count": 3,
   "outputs": [],
   "source": [
    "relationships = pd.read_csv(DATA_DIR / \"raw\" / filename_relationships, sep=';')\n",
    "users = pd.read_csv(DATA_DIR / \"processed\" / filename_users)"
   ],
   "metadata": {
    "collapsed": false
   }
  },
  {
   "cell_type": "code",
   "execution_count": 4,
   "outputs": [
    {
     "data": {
      "text/plain": "ID_CommunityIdentity    0.000000\nUserGender              0.479897\naccount_age             0.368144\ndtype: float64"
     },
     "execution_count": 4,
     "metadata": {},
     "output_type": "execute_result"
    }
   ],
   "source": [
    "users.isnull().sum() / len(users)"
   ],
   "metadata": {
    "collapsed": false
   }
  },
  {
   "cell_type": "markdown",
   "source": [
    "# Basic Exploration"
   ],
   "metadata": {
    "collapsed": false
   }
  },
  {
   "cell_type": "code",
   "execution_count": 5,
   "outputs": [
    {
     "data": {
      "text/plain": "   ID_CommunityIdentity  ID_CommunityIdentityConnectedTo  \\\n0                  1778                           246490   \n1                  5872                             5872   \n2                  9030                            23875   \n3                  9030                           508504   \n4                 10569                            10569   \n\n   ID_CommunityConnectionType  \n0                           1  \n1                           1  \n2                           1  \n3                           1  \n4                           1  ",
      "text/html": "<div>\n<style scoped>\n    .dataframe tbody tr th:only-of-type {\n        vertical-align: middle;\n    }\n\n    .dataframe tbody tr th {\n        vertical-align: top;\n    }\n\n    .dataframe thead th {\n        text-align: right;\n    }\n</style>\n<table border=\"1\" class=\"dataframe\">\n  <thead>\n    <tr style=\"text-align: right;\">\n      <th></th>\n      <th>ID_CommunityIdentity</th>\n      <th>ID_CommunityIdentityConnectedTo</th>\n      <th>ID_CommunityConnectionType</th>\n    </tr>\n  </thead>\n  <tbody>\n    <tr>\n      <th>0</th>\n      <td>1778</td>\n      <td>246490</td>\n      <td>1</td>\n    </tr>\n    <tr>\n      <th>1</th>\n      <td>5872</td>\n      <td>5872</td>\n      <td>1</td>\n    </tr>\n    <tr>\n      <th>2</th>\n      <td>9030</td>\n      <td>23875</td>\n      <td>1</td>\n    </tr>\n    <tr>\n      <th>3</th>\n      <td>9030</td>\n      <td>508504</td>\n      <td>1</td>\n    </tr>\n    <tr>\n      <th>4</th>\n      <td>10569</td>\n      <td>10569</td>\n      <td>1</td>\n    </tr>\n  </tbody>\n</table>\n</div>"
     },
     "execution_count": 5,
     "metadata": {},
     "output_type": "execute_result"
    }
   ],
   "source": [
    "relationships.head()"
   ],
   "metadata": {
    "collapsed": false
   }
  },
  {
   "cell_type": "code",
   "execution_count": 6,
   "outputs": [
    {
     "data": {
      "text/plain": "ID_CommunityConnectionType\n1    57117\n2    29659\nName: count, dtype: int64"
     },
     "execution_count": 6,
     "metadata": {},
     "output_type": "execute_result"
    }
   ],
   "source": [
    "relationships.ID_CommunityConnectionType.value_counts()"
   ],
   "metadata": {
    "collapsed": false
   }
  },
  {
   "cell_type": "markdown",
   "source": [
    "This dataset contains 57117 follows and 29659 ignore relationships"
   ],
   "metadata": {
    "collapsed": false
   }
  },
  {
   "cell_type": "markdown",
   "source": [
    "Rename the columns for convenience"
   ],
   "metadata": {
    "collapsed": false
   }
  },
  {
   "cell_type": "code",
   "execution_count": 7,
   "outputs": [],
   "source": [
    "relationships.columns = [\"source_user_id\", \"target_user_id\", \"type\"]"
   ],
   "metadata": {
    "collapsed": false
   }
  },
  {
   "cell_type": "code",
   "execution_count": 8,
   "outputs": [
    {
     "data": {
      "text/plain": "source_user_id    0.0\ntarget_user_id    0.0\ntype              0.0\ndtype: float64"
     },
     "execution_count": 8,
     "metadata": {},
     "output_type": "execute_result"
    }
   ],
   "source": [
    "relationships.isnull().sum() / relationships.isnull().count()"
   ],
   "metadata": {
    "collapsed": false
   }
  },
  {
   "cell_type": "markdown",
   "source": [
    "No missing values which is nice."
   ],
   "metadata": {
    "collapsed": false
   }
  },
  {
   "cell_type": "code",
   "execution_count": 9,
   "outputs": [
    {
     "data": {
      "text/plain": "3148"
     },
     "execution_count": 9,
     "metadata": {},
     "output_type": "execute_result"
    }
   ],
   "source": [
    "len(relationships[relationships.source_user_id == relationships.target_user_id])"
   ],
   "metadata": {
    "collapsed": false
   }
  },
  {
   "cell_type": "markdown",
   "source": [
    "3148 Users follow themselves which is possible but does not convey any meaningful information from a social-science perspective and only distorts the graphs with unnecessary circles.\n",
    "We therefore remove them.\n",
    "\n",
    "**Note:** Ignoring yourself is not possible on this platform"
   ],
   "metadata": {
    "collapsed": false
   }
  },
  {
   "cell_type": "code",
   "execution_count": 10,
   "outputs": [],
   "source": [
    "relationships = relationships[~(relationships.source_user_id == relationships.target_user_id)]"
   ],
   "metadata": {
    "collapsed": false
   }
  },
  {
   "cell_type": "markdown",
   "source": [
    "## Merge with attributes df\n",
    "\n",
    "Merge the relationships dataframe with the user dataframe, which contains the additional attributes Gender, Date of Creation for each user-id (if present)"
   ],
   "metadata": {
    "collapsed": false
   }
  },
  {
   "cell_type": "code",
   "execution_count": 11,
   "outputs": [
    {
     "data": {
      "text/plain": "   source_user_id  target_user_id  type\n0            1778          246490     1\n2            9030           23875     1\n3            9030          508504     1\n5           10569           91850     1\n6           10569          547472     1",
      "text/html": "<div>\n<style scoped>\n    .dataframe tbody tr th:only-of-type {\n        vertical-align: middle;\n    }\n\n    .dataframe tbody tr th {\n        vertical-align: top;\n    }\n\n    .dataframe thead th {\n        text-align: right;\n    }\n</style>\n<table border=\"1\" class=\"dataframe\">\n  <thead>\n    <tr style=\"text-align: right;\">\n      <th></th>\n      <th>source_user_id</th>\n      <th>target_user_id</th>\n      <th>type</th>\n    </tr>\n  </thead>\n  <tbody>\n    <tr>\n      <th>0</th>\n      <td>1778</td>\n      <td>246490</td>\n      <td>1</td>\n    </tr>\n    <tr>\n      <th>2</th>\n      <td>9030</td>\n      <td>23875</td>\n      <td>1</td>\n    </tr>\n    <tr>\n      <th>3</th>\n      <td>9030</td>\n      <td>508504</td>\n      <td>1</td>\n    </tr>\n    <tr>\n      <th>5</th>\n      <td>10569</td>\n      <td>91850</td>\n      <td>1</td>\n    </tr>\n    <tr>\n      <th>6</th>\n      <td>10569</td>\n      <td>547472</td>\n      <td>1</td>\n    </tr>\n  </tbody>\n</table>\n</div>"
     },
     "execution_count": 11,
     "metadata": {},
     "output_type": "execute_result"
    }
   ],
   "source": [
    "relationships.head()"
   ],
   "metadata": {
    "collapsed": false
   }
  },
  {
   "cell_type": "code",
   "execution_count": 12,
   "outputs": [],
   "source": [
    "users_source = users.rename(columns={'ID_CommunityIdentity': 'source_user_id', 'UserGender': 'source_user_gender', 'account_age': 'source_user_account_age'})\n",
    "users_target = users.rename(columns={'ID_CommunityIdentity': 'target_user_id', 'UserGender': 'target_user_gender', 'account_age': 'target_user_account_age'})"
   ],
   "metadata": {
    "collapsed": false
   }
  },
  {
   "cell_type": "code",
   "execution_count": 13,
   "outputs": [],
   "source": [
    "intermediate_df = pd.merge(relationships, users_source, on='source_user_id', how='left')"
   ],
   "metadata": {
    "collapsed": false
   }
  },
  {
   "cell_type": "code",
   "execution_count": 14,
   "outputs": [],
   "source": [
    "relationships_enriched = pd.merge(intermediate_df, users_target, on='target_user_id', how='left')"
   ],
   "metadata": {
    "collapsed": false
   }
  },
  {
   "cell_type": "markdown",
   "source": [
    "To further investigate the homophily by the attributes gender and date of creation we create seperate dataframes where all the rows with missing values are removed for the specific attribute"
   ],
   "metadata": {
    "collapsed": false
   }
  },
  {
   "cell_type": "code",
   "execution_count": 15,
   "outputs": [
    {
     "data": {
      "text/plain": "   source_user_id  target_user_id  type source_user_gender  \\\n0            1778          246490     1                NaN   \n1            9030           23875     1                NaN   \n2            9030          508504     1                NaN   \n3           10569           91850     1                NaN   \n4           10569          547472     1                NaN   \n\n   source_user_account_age target_user_gender  target_user_account_age  \n0                      NaN                  m                     19.0  \n1                      NaN                  m                     18.0  \n2                      NaN                  w                     12.0  \n3                      NaN                  m                     22.0  \n4                      NaN                NaN                      NaN  ",
      "text/html": "<div>\n<style scoped>\n    .dataframe tbody tr th:only-of-type {\n        vertical-align: middle;\n    }\n\n    .dataframe tbody tr th {\n        vertical-align: top;\n    }\n\n    .dataframe thead th {\n        text-align: right;\n    }\n</style>\n<table border=\"1\" class=\"dataframe\">\n  <thead>\n    <tr style=\"text-align: right;\">\n      <th></th>\n      <th>source_user_id</th>\n      <th>target_user_id</th>\n      <th>type</th>\n      <th>source_user_gender</th>\n      <th>source_user_account_age</th>\n      <th>target_user_gender</th>\n      <th>target_user_account_age</th>\n    </tr>\n  </thead>\n  <tbody>\n    <tr>\n      <th>0</th>\n      <td>1778</td>\n      <td>246490</td>\n      <td>1</td>\n      <td>NaN</td>\n      <td>NaN</td>\n      <td>m</td>\n      <td>19.0</td>\n    </tr>\n    <tr>\n      <th>1</th>\n      <td>9030</td>\n      <td>23875</td>\n      <td>1</td>\n      <td>NaN</td>\n      <td>NaN</td>\n      <td>m</td>\n      <td>18.0</td>\n    </tr>\n    <tr>\n      <th>2</th>\n      <td>9030</td>\n      <td>508504</td>\n      <td>1</td>\n      <td>NaN</td>\n      <td>NaN</td>\n      <td>w</td>\n      <td>12.0</td>\n    </tr>\n    <tr>\n      <th>3</th>\n      <td>10569</td>\n      <td>91850</td>\n      <td>1</td>\n      <td>NaN</td>\n      <td>NaN</td>\n      <td>m</td>\n      <td>22.0</td>\n    </tr>\n    <tr>\n      <th>4</th>\n      <td>10569</td>\n      <td>547472</td>\n      <td>1</td>\n      <td>NaN</td>\n      <td>NaN</td>\n      <td>NaN</td>\n      <td>NaN</td>\n    </tr>\n  </tbody>\n</table>\n</div>"
     },
     "execution_count": 15,
     "metadata": {},
     "output_type": "execute_result"
    }
   ],
   "source": [
    "relationships_enriched.head()"
   ],
   "metadata": {
    "collapsed": false
   }
  },
  {
   "cell_type": "code",
   "execution_count": 16,
   "outputs": [],
   "source": [
    "relationships_with_gender = relationships_enriched.dropna(subset=['source_user_gender', 'target_user_gender'])\n",
    "relationships_with_date = relationships_enriched.dropna(subset=['source_user_account_age', 'target_user_account_age'])"
   ],
   "metadata": {
    "collapsed": false
   }
  },
  {
   "cell_type": "markdown",
   "source": [
    "Split the data to create separate graphs for each type of relationship"
   ],
   "metadata": {
    "collapsed": false
   }
  },
  {
   "cell_type": "code",
   "execution_count": 17,
   "outputs": [],
   "source": [
    "following_relationships = relationships_enriched[relationships_enriched['type'] == 1].drop(columns=['type'])\n",
    "ignoring_relationships = relationships_enriched[relationships_enriched['type'] == 2].drop(columns=['type'])\n",
    "\n",
    "following_relationships_gender = relationships_with_gender[relationships_with_gender['type'] == 1].drop(columns=['type'])\n",
    "ignoring_relationships_gender = relationships_with_gender[relationships_with_gender['type'] == 2].drop(columns=['type'])\n",
    "\n",
    "following_relationships_with_date = relationships_with_date[relationships_with_date['type'] == 1].drop(columns=['type'])\n",
    "ignoring_relationships_with_date = relationships_with_date[relationships_with_date['type'] == 2].drop(columns=['type'])"
   ],
   "metadata": {
    "collapsed": false
   }
  },
  {
   "cell_type": "code",
   "execution_count": 18,
   "outputs": [
    {
     "data": {
      "text/plain": "53969"
     },
     "execution_count": 18,
     "metadata": {},
     "output_type": "execute_result"
    }
   ],
   "source": [
    "len(following_relationships)"
   ],
   "metadata": {
    "collapsed": false
   }
  },
  {
   "cell_type": "code",
   "execution_count": 19,
   "outputs": [
    {
     "data": {
      "text/plain": "35533"
     },
     "execution_count": 19,
     "metadata": {},
     "output_type": "execute_result"
    }
   ],
   "source": [
    "len(following_relationships_with_date)"
   ],
   "metadata": {
    "collapsed": false
   }
  },
  {
   "cell_type": "code",
   "execution_count": 20,
   "outputs": [
    {
     "data": {
      "text/plain": "27357"
     },
     "execution_count": 20,
     "metadata": {},
     "output_type": "execute_result"
    }
   ],
   "source": [
    "len(following_relationships_gender)"
   ],
   "metadata": {
    "collapsed": false
   }
  },
  {
   "cell_type": "markdown",
   "source": [
    "# Sample"
   ],
   "metadata": {
    "collapsed": false
   }
  },
  {
   "cell_type": "code",
   "execution_count": 21,
   "outputs": [],
   "source": [
    "'''\n",
    "n_follow = \"full-\"\n",
    "n_ignore = \"full-\"\n",
    "following_relationships_sample = following_relationships  #.sample(n=n_follow, random_state=1040)\n",
    "ignoring_relationships_sample = ignoring_relationships  #.sample(n=n_ignore, random_state=1040)\n",
    "''';"
   ],
   "metadata": {
    "collapsed": false
   }
  },
  {
   "cell_type": "markdown",
   "source": [
    "# Numeric Analysis"
   ],
   "metadata": {
    "collapsed": false
   }
  },
  {
   "cell_type": "markdown",
   "source": [
    "## Assortative Mixing by Degree\n",
    "\n",
    "Here we use the full graph since we only need the nodes and the edges of the graph and no additional information"
   ],
   "metadata": {
    "collapsed": false
   }
  },
  {
   "cell_type": "markdown",
   "source": [
    "Construct graphs"
   ],
   "metadata": {
    "collapsed": false
   }
  },
  {
   "cell_type": "code",
   "execution_count": 63,
   "outputs": [],
   "source": [
    "G_follow = nx.from_pandas_edgelist(following_relationships,\n",
    "                            source='source_user_id',\n",
    "                            target='target_user_id',\n",
    "                            create_using=nx.DiGraph)\n",
    "\n",
    "G_ignore = nx.from_pandas_edgelist(ignoring_relationships,\n",
    "                                   source='source_user_id',\n",
    "                                   target='target_user_id',\n",
    "                                   create_using=nx.DiGraph)"
   ],
   "metadata": {
    "collapsed": false
   }
  },
  {
   "cell_type": "markdown",
   "source": [
    "Calculate key figures"
   ],
   "metadata": {
    "collapsed": false
   }
  },
  {
   "cell_type": "code",
   "execution_count": 64,
   "outputs": [
    {
     "name": "stdout",
     "output_type": "stream",
     "text": [
      "Number of nodes: 14497\n",
      "Number of edges: 53969\n",
      "Average degree: 7.445540456646203\n",
      "Average clustering coefficient: 0.03222674311027298\n",
      "Degree assortativity coefficient: -0.11808474766165833\n"
     ]
    }
   ],
   "source": [
    "key_figures_follow = calculate_key_figures(G_follow, display=True)"
   ],
   "metadata": {
    "collapsed": false
   }
  },
  {
   "cell_type": "markdown",
   "source": [
    " * **Connectivity:**\n",
    "The average degree is about 7.45, which suggests that on average, each user follows around 7-8 other users. This is a moderate level of connectivity which may indicate that users have selective preferences or do not see the benefits in following other users even if they use the platform regularly (No News-Feed).<br>\n",
    "\n",
    "* **Low Clustering:**\n",
    "The average clustering coefficient is quite low at approximately 0.032. This indicates that the users' followers are not highly interconnected; that is, a follower of one user is not likely to be a follower of another user that they follow. It reflects a lack of tightly-knit communities or cliques within the network.<br>\n",
    "\n",
    "* **Disassortative Mixing:**\n",
    "The negative degree assortativity coefficient (-0.118) suggests that the network exhibits disassortative mixing by degree, meaning users with many followers are more likely to follow users with fewer followers and vice versa. This is common in social networks where popular individuals (celebrities, influencers) are followed by many but themselves follow few.\n",
    "\n",
    "**Note:** Interpretation was made for the results of the unfiltered graph"
   ],
   "metadata": {
    "collapsed": false
   }
  },
  {
   "cell_type": "code",
   "execution_count": 65,
   "outputs": [
    {
     "name": "stdout",
     "output_type": "stream",
     "text": [
      "Number of nodes: 8694\n",
      "Number of edges: 29659\n",
      "Average degree: 6.822866344605475\n",
      "Average clustering coefficient: 0.0068942632903669695\n",
      "Degree assortativity coefficient: -0.21685760911155277\n"
     ]
    }
   ],
   "source": [
    "key_figures_ignore = calculate_key_figures(G_ignore, display=True)"
   ],
   "metadata": {
    "collapsed": false
   }
  },
  {
   "cell_type": "markdown",
   "source": [
    "* **Connectivity:**\n",
    "The average degree is around 6.82, which means that, on average, each user has blocked nearly 7 other users.\n",
    "Its interesting that users almost block as much users on average as they follow.\n",
    "\n",
    "* **Low Clustering:**\n",
    "The average clustering coefficient is extremely low (~0.000037), nearly zero. This suggests that users who block one user are not likely to block the same users as each other. In other words, there's minimal tendency for 'cliques' of mutually blocking users to form. This could imply that reasons for blocking are very individual and not influenced by communal or shared grievances.\n",
    "\n",
    "* **Disassortative Mixing:**\n",
    "A negative degree assortativity coefficient of -0.2169 is even more pronounced than in the following network. It shows a tendency for users to block users with dissimilar degrees. High-degree users (those who block many others) tend to block users who block fewer users.\n"
   ],
   "metadata": {
    "collapsed": false
   }
  },
  {
   "cell_type": "markdown",
   "source": [
    "## Assortative Mixing by a discrete attribute (Gender)"
   ],
   "metadata": {
    "collapsed": false
   }
  },
  {
   "cell_type": "markdown",
   "source": [
    "Create graphs"
   ],
   "metadata": {
    "collapsed": false
   }
  },
  {
   "cell_type": "code",
   "execution_count": 66,
   "outputs": [],
   "source": [
    "G_follow_gender = nx.from_pandas_edgelist(following_relationships_gender,\n",
    "                                   source='source_user_id',\n",
    "                                   target='target_user_id',\n",
    "                                   create_using=nx.DiGraph)\n",
    "\n",
    "G_ignore_gender = nx.from_pandas_edgelist(ignoring_relationships_gender,\n",
    "                                   source='source_user_id',\n",
    "                                   target='target_user_id',\n",
    "                                   create_using=nx.DiGraph)"
   ],
   "metadata": {
    "collapsed": false
   }
  },
  {
   "cell_type": "markdown",
   "source": [
    "Add attributes"
   ],
   "metadata": {
    "collapsed": false
   }
  },
  {
   "cell_type": "code",
   "execution_count": 67,
   "outputs": [],
   "source": [
    "for _, row in users.iterrows():\n",
    "    # Check if node exists in the graph, then add the gender attribute\n",
    "    if row['ID_CommunityIdentity'] in G_follow_gender:\n",
    "        nx.set_node_attributes(G_follow_gender, {row['ID_CommunityIdentity']: row['UserGender']}, 'gender')\n",
    "    if row['ID_CommunityIdentity'] in G_ignore_gender:\n",
    "        nx.set_node_attributes(G_ignore_gender, {row['ID_CommunityIdentity']: row['UserGender']}, 'gender')"
   ],
   "metadata": {
    "collapsed": false
   }
  },
  {
   "cell_type": "markdown",
   "source": [
    "Following-Graph: Key-figures"
   ],
   "metadata": {
    "collapsed": false
   }
  },
  {
   "cell_type": "code",
   "execution_count": 68,
   "outputs": [
    {
     "name": "stdout",
     "output_type": "stream",
     "text": [
      "Number of nodes: 7032\n",
      "Number of edges: 27357\n",
      "Average degree: 7.780716723549488\n",
      "Average clustering coefficient: 0.03633332905792894\n",
      "Degree assortativity coefficient: -0.1453662068784821\n",
      "Gender Assortativity: 0.08494605011747595\n"
     ]
    }
   ],
   "source": [
    "calculate_key_figures(G_follow_gender, display=True);\n",
    "gender_assortativity = nx.attribute_assortativity_coefficient(G_follow_gender, 'gender')\n",
    "print(f\"Gender Assortativity: {gender_assortativity}\")"
   ],
   "metadata": {
    "collapsed": false
   }
  },
  {
   "cell_type": "markdown",
   "source": [
    "Ignore-Graph: Key-figures"
   ],
   "metadata": {
    "collapsed": false
   }
  },
  {
   "cell_type": "code",
   "execution_count": 69,
   "outputs": [
    {
     "name": "stdout",
     "output_type": "stream",
     "text": [
      "Number of nodes: 4670\n",
      "Number of edges: 15160\n",
      "Average degree: 6.492505353319058\n",
      "Average clustering coefficient: 0.007868070902570152\n",
      "Degree assortativity coefficient: -0.2261378257159407\n",
      "Gender Assortativity: 0.04227104861199373\n"
     ]
    }
   ],
   "source": [
    "calculate_key_figures(G_ignore_gender, display=True);\n",
    "gender_assortativity = nx.attribute_assortativity_coefficient(G_ignore_gender, 'gender')\n",
    "print(f\"Gender Assortativity: {gender_assortativity}\")"
   ],
   "metadata": {
    "collapsed": false
   }
  },
  {
   "cell_type": "markdown",
   "source": [
    "## Assortative Mixing by a continuous attribute (Age of Account)"
   ],
   "metadata": {
    "collapsed": false
   }
  },
  {
   "cell_type": "markdown",
   "source": [
    "Create graphs"
   ],
   "metadata": {
    "collapsed": false
   }
  },
  {
   "cell_type": "code",
   "execution_count": 70,
   "outputs": [],
   "source": [
    "G_follow_age = nx.from_pandas_edgelist(following_relationships_with_date,\n",
    "                                          source='source_user_id',\n",
    "                                          target='target_user_id',\n",
    "                                          create_using=nx.DiGraph)\n",
    "\n",
    "G_ignore_age = nx.from_pandas_edgelist(ignoring_relationships_gender,\n",
    "                                          source='source_user_id',\n",
    "                                          target='target_user_id',\n",
    "                                          create_using=nx.DiGraph)"
   ],
   "metadata": {
    "collapsed": false
   }
  },
  {
   "cell_type": "markdown",
   "source": [
    "Add attributes"
   ],
   "metadata": {
    "collapsed": false
   }
  },
  {
   "cell_type": "code",
   "execution_count": 71,
   "outputs": [],
   "source": [
    "for _, row in users.iterrows():\n",
    "    if row['ID_CommunityIdentity'] in G_follow_age:\n",
    "        nx.set_node_attributes(G_follow_age, {row['ID_CommunityIdentity']: row['account_age']}, 'age')\n",
    "\n",
    "for _, row in users.iterrows():\n",
    "    if row['ID_CommunityIdentity'] in G_ignore_age:\n",
    "        nx.set_node_attributes(G_ignore_age, {row['ID_CommunityIdentity']: row['account_age']}, 'age')"
   ],
   "metadata": {
    "collapsed": false
   }
  },
  {
   "cell_type": "markdown",
   "source": [
    "Following-Graph: Key-figures"
   ],
   "metadata": {
    "collapsed": false
   }
  },
  {
   "cell_type": "code",
   "execution_count": 72,
   "outputs": [
    {
     "name": "stdout",
     "output_type": "stream",
     "text": [
      "Number of nodes: 8847\n",
      "Number of edges: 35533\n",
      "Average degree: 8.032779473267775\n",
      "Average clustering coefficient: 0.03506913540503731\n",
      "Degree assortativity coefficient: -0.13635769989821428\n",
      "Age Assortativity: 0.12252669716232956\n"
     ]
    }
   ],
   "source": [
    "calculate_key_figures(G_follow_age, display=True);\n",
    "age_assortativity = nx.numeric_assortativity_coefficient(G_follow_age, 'age')\n",
    "print(f\"Age Assortativity: {age_assortativity}\")"
   ],
   "metadata": {
    "collapsed": false
   }
  },
  {
   "cell_type": "markdown",
   "source": [
    "Ignore-Graph: Key-figures"
   ],
   "metadata": {
    "collapsed": false
   }
  },
  {
   "cell_type": "code",
   "execution_count": 73,
   "outputs": [
    {
     "name": "stdout",
     "output_type": "stream",
     "text": [
      "Number of nodes: 4670\n",
      "Number of edges: 15160\n",
      "Average degree: 6.492505353319058\n",
      "Average clustering coefficient: 0.007868070902570152\n",
      "Degree assortativity coefficient: -0.2261378257159407\n",
      "Age Assortativity: -0.015724069469989773\n"
     ]
    }
   ],
   "source": [
    "calculate_key_figures(G_ignore_age, display=True);\n",
    "age_assortativity = nx.numeric_assortativity_coefficient(G_ignore_age, 'age')\n",
    "print(f\"Age Assortativity: {age_assortativity}\")"
   ],
   "metadata": {
    "collapsed": false
   }
  },
  {
   "cell_type": "markdown",
   "source": [
    "# Visual Analysis"
   ],
   "metadata": {
    "collapsed": false
   }
  },
  {
   "cell_type": "markdown",
   "source": [
    "## Assortative Mixing by Degree"
   ],
   "metadata": {
    "collapsed": false
   }
  },
  {
   "cell_type": "markdown",
   "source": [
    "### Following-Network: Visualization"
   ],
   "metadata": {
    "collapsed": false
   }
  },
  {
   "cell_type": "code",
   "execution_count": null,
   "outputs": [],
   "source": [
    "fig = plt.figure(figsize=(50,50))\n",
    "nx.draw_spring(G_follow)\n",
    "plt.savefig(FIG_OUTPUT_DIR / f\"follow_by_degree.png\", format=\"PNG\")\n",
    "plt.show()"
   ],
   "metadata": {
    "collapsed": false,
    "pycharm": {
     "is_executing": true
    }
   }
  },
  {
   "cell_type": "markdown",
   "source": [
    "### Ignore-Network: Visualization"
   ],
   "metadata": {
    "collapsed": false
   }
  },
  {
   "cell_type": "code",
   "execution_count": null,
   "outputs": [],
   "source": [
    "fig = plt.figure(figsize=(50,50))\n",
    "nx.draw_spring(G_ignore)\n",
    "plt.savefig(FIG_OUTPUT_DIR / f\"ignore_by_degree.png\", format=\"PNG\")\n",
    "plt.show()"
   ],
   "metadata": {
    "collapsed": false
   }
  },
  {
   "cell_type": "markdown",
   "source": [
    "## Assortative Mixing by a discrete attribute (Gender)"
   ],
   "metadata": {
    "collapsed": false
   }
  },
  {
   "cell_type": "markdown",
   "source": [
    "### Following-Network: Visualization"
   ],
   "metadata": {
    "collapsed": false
   }
  },
  {
   "cell_type": "code",
   "execution_count": null,
   "outputs": [],
   "source": [
    "fig = plt.figure(figsize=(50,50))\n",
    "nx.draw_spring(G_follow_gender)\n",
    "plt.savefig(FIG_OUTPUT_DIR / f\"follow_by_gender.png\", format=\"PNG\")\n",
    "plt.show()"
   ],
   "metadata": {
    "collapsed": false
   }
  },
  {
   "cell_type": "markdown",
   "source": [
    "### Ignore-Network: Visualization"
   ],
   "metadata": {
    "collapsed": false
   }
  },
  {
   "cell_type": "code",
   "execution_count": null,
   "outputs": [],
   "source": [
    "fig = plt.figure(figsize=(50,50))\n",
    "nx.draw_spring(G_ignore_gender)\n",
    "plt.savefig(FIG_OUTPUT_DIR / f\"ignore_by_gender.png\", format=\"PNG\")\n",
    "plt.show()"
   ],
   "metadata": {
    "collapsed": false
   }
  },
  {
   "cell_type": "markdown",
   "source": [
    "## Assortative Mixing by a continuous attribute (Age of the Account)"
   ],
   "metadata": {
    "collapsed": false
   }
  },
  {
   "cell_type": "markdown",
   "source": [
    "### Following-Network: Visualization"
   ],
   "metadata": {
    "collapsed": false
   }
  },
  {
   "cell_type": "code",
   "execution_count": null,
   "outputs": [],
   "source": [
    "fig = plt.figure(figsize=(50,50))\n",
    "nx.draw_spring(G_follow_age)\n",
    "plt.savefig(FIG_OUTPUT_DIR / f\"follow_by_age.png\", format=\"PNG\")\n",
    "plt.show()"
   ],
   "metadata": {
    "collapsed": false
   }
  },
  {
   "cell_type": "markdown",
   "source": [
    "### Ignore-Network: Visualization"
   ],
   "metadata": {
    "collapsed": false
   }
  },
  {
   "cell_type": "code",
   "execution_count": null,
   "outputs": [],
   "source": [
    "fig = plt.figure(figsize=(50,50))\n",
    "nx.draw_spring(G_ignore_age)\n",
    "plt.savefig(FIG_OUTPUT_DIR / f\"follow_by_age.png\", format=\"PNG\")\n",
    "plt.show()"
   ],
   "metadata": {
    "collapsed": false
   }
  },
  {
   "cell_type": "markdown",
   "source": [
    "## Degree Distribution"
   ],
   "metadata": {
    "collapsed": false
   }
  },
  {
   "cell_type": "code",
   "execution_count": null,
   "outputs": [],
   "source": [
    "degree_sequence = sorted([d for n, d in G_follow.in_degree], reverse=True)"
   ],
   "metadata": {
    "collapsed": false
   }
  },
  {
   "cell_type": "code",
   "execution_count": null,
   "outputs": [],
   "source": [
    "# Create the bins for the histogram\n",
    "min_degree = min(degree_sequence)\n",
    "max_degree = max(degree_sequence)\n",
    "\n",
    "# Ensure the minimum and maximum are multiples of 3\n",
    "min_bin = min_degree - (min_degree % 3)\n",
    "max_bin = max_degree + (3 - max_degree % 3)\n",
    "\n",
    "bins = list(range(min_bin, max_bin + 1, 3))  # Create bins from min_bin to max_bin with a step of 3\n",
    "\n",
    "# Plot the histogram\n",
    "plt.figure(figsize=(12, 8))\n",
    "plt.hist(degree_sequence, bins=bins, density=True)  # Specify the custom bins\n",
    "plt.title(\"Degree Histogram\")\n",
    "plt.ylabel(\"Density\")\n",
    "plt.xlabel(\"Degree\")\n",
    "plt.xticks(bins)  # Set x-ticks to match the bins\n",
    "plt.show()"
   ],
   "metadata": {
    "collapsed": false
   }
  },
  {
   "cell_type": "markdown",
   "source": [
    "Create Log-Log Plot"
   ],
   "metadata": {
    "collapsed": false
   }
  },
  {
   "cell_type": "code",
   "execution_count": null,
   "outputs": [],
   "source": [
    "plt.figure(figsize=(12, 8))\n",
    "hist, bins = np.histogram(degree_sequence, bins=50, density=True)\n",
    "logbins = np.logspace(np.log10(bins[0]), np.log10(bins[-1]), len(bins))\n",
    "\n",
    "plt.plot(logbins[:-1], hist, linestyle='None', marker='.')\n",
    "plt.xscale('log')  # Set log scale for x-axis\n",
    "plt.yscale('log')  # Set log scale for y-axis\n",
    "plt.title(\"Degree Distribution on Log-Log Scale\")\n",
    "plt.xlabel(\"Degree (log scale)\")\n",
    "plt.ylabel(\"Probability Density (log scale)\")\n",
    "plt.show()"
   ],
   "metadata": {
    "collapsed": false
   }
  },
  {
   "cell_type": "markdown",
   "source": [
    "# Further Analysis - WIP from here on"
   ],
   "metadata": {
    "collapsed": false
   }
  },
  {
   "cell_type": "markdown",
   "source": [
    "We can see that there is a very connected center of users in the graph, while other users do only interact with a few select users and are not connected to the well-connected users.\n",
    "To further investigate this we take a look at the nodes with higher degrees"
   ],
   "metadata": {
    "collapsed": false
   }
  },
  {
   "cell_type": "code",
   "execution_count": null,
   "outputs": [],
   "source": [
    "# Assuming 'G' is your original NetworkX graph\n",
    "G_filtered = G_follow.subgraph(node for node, degree in dict(G_follow.degree()).items() if degree >= 5).copy()"
   ],
   "metadata": {
    "collapsed": false
   }
  },
  {
   "cell_type": "code",
   "execution_count": null,
   "outputs": [],
   "source": [
    "fig = plt.figure(figsize=(50,50))\n",
    "nx.draw_spring(G_filtered)\n",
    "# plt.savefig(FIG_OUTPUT_PATH / f\"ignore_{n_ignore}n.png\", format=\"PNG\")\n",
    "plt.show()"
   ],
   "metadata": {
    "collapsed": false
   }
  },
  {
   "cell_type": "code",
   "execution_count": null,
   "outputs": [],
   "source": [
    "fig = plt.figure(figsize=(50,50))\n",
    "\n",
    "node_size = [200 * G_filtered.degree(v) for v in G_filtered.nodes()]\n",
    "\n",
    "nx.draw_spring(G_filtered, node_size=node_size, with_labels=False)\n",
    "#plt.savefig(FIG_OUTPUT_PATH / f\"ignore_{n_ignore}n.png\", format=\"PNG\")\n",
    "plt.show()"
   ],
   "metadata": {
    "collapsed": false
   }
  },
  {
   "cell_type": "markdown",
   "source": [
    "# Distributions"
   ],
   "metadata": {
    "collapsed": false
   }
  },
  {
   "cell_type": "code",
   "execution_count": null,
   "outputs": [],
   "source": [
    "'''pos = nx.spring_layout(G_\n",
    "betCent = nx.betweenness_centrality(G, normalized=True, endpoints=True)\n",
    "node_color = [20000.0 * G.degree(v) for v in G]\n",
    "node_size =  [v * 10000 for v in betCent.values()]\n",
    "plt.figure(figsize=(20,20))\n",
    "nx.draw_networkx(G, pos=pos, with_labels=False,\n",
    "                 node_color=node_color,\n",
    "                 node_size=node_size )\n",
    "plt.axis('off')\n",
    "# plt.savefig(FIG_OUTPUT_PATH / \"G_sample_5000.png, format=\"PNG\")\n",
    "plt.show()''';"
   ],
   "metadata": {
    "collapsed": false
   }
  },
  {
   "cell_type": "code",
   "execution_count": null,
   "outputs": [],
   "source": [],
   "metadata": {
    "collapsed": false
   }
  }
 ],
 "metadata": {
  "kernelspec": {
   "display_name": "Python 3",
   "language": "python",
   "name": "python3"
  },
  "language_info": {
   "codemirror_mode": {
    "name": "ipython",
    "version": 2
   },
   "file_extension": ".py",
   "mimetype": "text/x-python",
   "name": "python",
   "nbconvert_exporter": "python",
   "pygments_lexer": "ipython2",
   "version": "2.7.6"
  }
 },
 "nbformat": 4,
 "nbformat_minor": 0
}
