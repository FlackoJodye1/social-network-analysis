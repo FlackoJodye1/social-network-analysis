{
 "cells": [
  {
   "cell_type": "markdown",
   "metadata": {},
   "source": [
    "# Import needed libraries"
   ]
  },
  {
   "cell_type": "code",
   "execution_count": null,
   "metadata": {},
   "outputs": [],
   "source": [
    "import numpy as np\n",
    "import networkx as nx\n",
    "import pandas as pd\n",
    "import matplotlib.pyplot as plt\n",
    "from pathlib import Path\n"
   ]
  },
  {
   "cell_type": "markdown",
   "metadata": {},
   "source": [
    "# Extract the postings data"
   ]
  },
  {
   "cell_type": "code",
   "execution_count": null,
   "metadata": {},
   "outputs": [],
   "source": [
    "DATA_DIR = Path(\"../../data/raw/\")\n",
    "filename_first = \"Postings_01052019_15052019.csv\"\n",
    "filename_second = \"Postings_16052019_31052019.csv\"\n",
    "\n",
    "# use this output-path for saving figures\n",
    "FIG_OUTPUT_PATH = Path(\"../../reports/figures/postings/\")"
   ]
  },
  {
   "cell_type": "code",
   "execution_count": null,
   "metadata": {},
   "outputs": [],
   "source": [
    "postings1_df = pd.read_csv(DATA_DIR / filename_first, sep=';', dtype=str)\n",
    "postings2_df = pd.read_csv(DATA_DIR / filename_second, sep=';', dtype=str)"
   ]
  },
  {
   "cell_type": "code",
   "execution_count": null,
   "metadata": {},
   "outputs": [],
   "source": [
    "# Create a unique dataframe\n",
    "postings_df = pd.concat([postings1_df, postings2_df])\n",
    "\n",
    "\n",
    "# Convert the creation date of the account to the age of the account\n",
    "postings_df['UserCreatedAt'] = 2024 - (pd.to_datetime(postings_df['UserCreatedAt']).dt.year)\n",
    "postings_df = postings_df.rename(columns={'UserCreatedAt': 'AccountAge'})\n"
   ]
  },
  {
   "cell_type": "code",
   "execution_count": null,
   "metadata": {},
   "outputs": [],
   "source": [
    "# Let us see how many unique users we have in the dataset - they will be the nodes of the networks\n",
    "len(postings_df['ID_CommunityIdentity'].unique())"
   ]
  },
  {
   "cell_type": "markdown",
   "metadata": {},
   "source": [
    "Now we create a new dataframe in which we store the attributes for each user, that will be the attributes of each node in the networks. \n",
    "\n",
    "For this analysis we are intrested in:\n",
    "- gender of the user\n",
    "- age of the account"
   ]
  },
  {
   "cell_type": "code",
   "execution_count": null,
   "metadata": {},
   "outputs": [],
   "source": [
    "# Extract nodes attributes and store them in a pandas df - assuming that one node is a user\n",
    "df_attributes = postings_df[['ID_CommunityIdentity', 'UserGender', 'AccountAge']].drop_duplicates()\n",
    "len(df_attributes)\n",
    "\n",
    "#len(df_attributes['UserCreatedAt'].unique())   # we have 21 differnt years of account creation"
   ]
  },
  {
   "cell_type": "markdown",
   "metadata": {},
   "source": [
    "## Filter data according to the Article Channel"
   ]
  },
  {
   "cell_type": "markdown",
   "metadata": {},
   "source": [
    "The idea is to measure assortative mixing by gender and possibly the age of the account considering the different topics of the articles under which users posted a comment. "
   ]
  },
  {
   "cell_type": "code",
   "execution_count": null,
   "metadata": {},
   "outputs": [],
   "source": [
    "# Get the list of unique channels\n",
    "channels = postings_df['ArticleChannel'].unique()\n",
    "\n",
    "print(channels)\n",
    "print(len(channels))\n"
   ]
  },
  {
   "cell_type": "code",
   "execution_count": null,
   "metadata": {},
   "outputs": [],
   "source": [
    "# Get the list of unique sub_channels for inlands\n",
    "sub_channels = postings1_df[postings1_df['ArticleChannel'] == 'Inland']['ArticleRessortName'].unique()\n",
    "\n",
    "print(sub_channels)\n",
    "print(len(sub_channels))"
   ]
  },
  {
   "cell_type": "markdown",
   "metadata": {},
   "source": [
    "Since they are all related more or less to poliics we will use 'Inland' to study assortive mixing by gender and age in politics. \n",
    "A further break down of the Inland channel could be considered, but way this implies a more specific analysis \n",
    "\n",
    "(seen the results I assume that Inland stands for polica interna)"
   ]
  },
  {
   "cell_type": "code",
   "execution_count": null,
   "metadata": {},
   "outputs": [],
   "source": [
    "# Group the DataFrame by the 'ArticleChannel' column\n",
    "grouped_df = postings_df.groupby('ArticleChannel')\n",
    "\n",
    "# Create a dictionary to store DataFrames based on ArticleChannel\n",
    "channel_dfs = {}\n",
    "\n",
    "# Iterate through the grouped DataFrame and create individual DataFrames\n",
    "for channel, channel_group in grouped_df:\n",
    "    channel_dfs[channel] = channel_group.copy()"
   ]
  },
  {
   "cell_type": "code",
   "execution_count": null,
   "metadata": {},
   "outputs": [],
   "source": [
    "# Iterate through the dictionary and print the shape of each DataFrame\n",
    "for channel, df in channel_dfs.items():\n",
    "    print(f\"Shape of DataFrame for {channel}: {df.shape}\")"
   ]
  },
  {
   "cell_type": "markdown",
   "metadata": {},
   "source": [
    "Measure the index for a subset of topics:\n",
    "- Sport\n",
    "- 'Wirtschaft' - Economy\n",
    "- 'Kultur' - Culture\n",
    "- 'Bildung' - Education\n",
    "- 'Karriere' - Career\n",
    "- Family\n",
    "- Inland (for politics)"
   ]
  },
  {
   "cell_type": "code",
   "execution_count": null,
   "metadata": {},
   "outputs": [],
   "source": [
    "selected_channels = ['Wirtschaft', 'Sport', 'Kultur', 'Bildung', 'Karriere', 'Familie']    # remember to add Inland - not done now cuase it's slow\n",
    "filtered_dict = {k: v for k, v in channel_dfs.items() if k in selected_channels}"
   ]
  },
  {
   "cell_type": "markdown",
   "metadata": {},
   "source": [
    "## Build the networks"
   ]
  },
  {
   "cell_type": "code",
   "execution_count": null,
   "metadata": {},
   "outputs": [],
   "source": [
    "# Create dictionaries to store edge lists and weighted edge lists\n",
    "edge_lists = {}\n",
    "weighted_edge_lists = {}\n",
    "\n",
    "# Create a dictionary to store df containing source (repliyng user), target (replied user) and weight (number of replies)\n",
    "edges_dfs = {} \n",
    "\n",
    "\n",
    "# Iterate through the dictionary of DataFrames\n",
    "for channel, df in filtered_dict.items():\n",
    "    # Obtain the list of edges for the current DataFrame\n",
    "    edgeList = [\n",
    "        [post.ID_CommunityIdentity, next(iter(df[df.ID_Posting == post.ID_Posting_Parent].ID_CommunityIdentity))]\n",
    "        for idx, post in df.iterrows()\n",
    "        if not pd.isna(post.ID_Posting_Parent)\n",
    "    ]\n",
    "\n",
    "    # Obtain the weights for the edges\n",
    "    weightedEdgeList = [(edge[0], edge[1], edgeList.count(edge)) for edge in edgeList]\n",
    "    weightedEdgeList = list(set(weightedEdgeList))\n",
    "\n",
    "    # Store the lists for each DataFrame in the dictionaries\n",
    "    edge_lists[channel] = edgeList\n",
    "    weighted_edge_lists[channel] = weightedEdgeList\n",
    "\n",
    "    # Create a DataFrame for the current list of edges\n",
    "    edges_df = pd.DataFrame(weightedEdgeList, columns=['source', 'target', 'weight'])         # needed for creating the network\n",
    "    edges_dfs[channel] = edges_df\n",
    "\n"
   ]
  },
  {
   "cell_type": "code",
   "execution_count": null,
   "metadata": {},
   "outputs": [],
   "source": [
    "# Create and store a graph for each edges_df\n",
    "graphs = {}\n",
    "for channel_name, df in edges_dfs.items():\n",
    "    G = nx.from_pandas_edgelist(df, 'source', 'target', edge_attr='weight', create_using=nx.DiGraph())\n",
    "\n",
    "    # To add attributes\n",
    "    G.add_nodes_from((n, dict(d)) for n, d in df_attributes.iterrows())\n",
    "    \n",
    "    graphs[channel_name] = G\n"
   ]
  },
  {
   "cell_type": "code",
   "execution_count": null,
   "metadata": {},
   "outputs": [],
   "source": [
    "# Iterate through the dictionary of graphs\n",
    "for channel, G in graphs.items():\n",
    "    # Compute assortative mixing by gender and age\n",
    "    assortativity_gender = nx.attribute_assortativity_coefficient(G, attribute='UserGender')\n",
    "    assortativity_age = nx.attribute_assortativity_coefficient(G, attribute='AccountAge')\n",
    "\n",
    "    # Print results with channel name\n",
    "    print(f\"Channel: {channel}\")\n",
    "    print(f\"Assortative Mixing by Gender: {assortativity_gender:.4f}\")\n",
    "    print(f\"Assortative Mixing by Age: {assortativity_age:.4f}\")\n",
    "    print('------------------------------------------------------')"
   ]
  },
  {
   "cell_type": "markdown",
   "metadata": {},
   "source": [
    "---------------------------------------------------------------------------------------\n",
    "STILL TO DO:\n",
    "- see how missing values are handles\n",
    "- try to plot something\n",
    "- votes network"
   ]
  }
 ],
 "metadata": {
  "kernelspec": {
   "display_name": "SNA_env",
   "language": "python",
   "name": "python3"
  },
  "language_info": {
   "codemirror_mode": {
    "name": "ipython",
    "version": 3
   },
   "file_extension": ".py",
   "mimetype": "text/x-python",
   "name": "python",
   "nbconvert_exporter": "python",
   "pygments_lexer": "ipython3",
   "version": "3.10.13"
  }
 },
 "nbformat": 4,
 "nbformat_minor": 2
}
