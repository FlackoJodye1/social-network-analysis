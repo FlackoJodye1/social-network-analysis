{
 "cells": [
  {
   "cell_type": "markdown",
   "id": "df419e08",
   "metadata": {},
   "source": [
    "## Import needed libraries"
   ]
  },
  {
   "cell_type": "code",
   "execution_count": 9,
   "id": "7774d42c-78ad-4dd3-9b28-32f2afd494d7",
   "metadata": {},
   "outputs": [],
   "source": [
    "import networkx as nx\n",
    "import pandas as pd\n",
    "\n",
    "from collections import Counter"
   ]
  },
  {
   "cell_type": "markdown",
   "id": "0749f72e-4729-44f0-86d5-55c14803d4cb",
   "metadata": {},
   "source": [
    "# Votes network\n",
    "The following notebook contains the code used for obtaining assortative mixing coefficients for the network built using votes as edges.\n",
    "In this case, to study both positive and negative votes, we create two different networks - like and dislike networks. In particular:\n",
    "- users are the nodes\n",
    "- in the like network, an edge is created if one node (source) votes positively the posting of another user (target)\n",
    "- in the dislike network, an edge is created if one node (source) votes negatively the posting of another user (target)\n",
    "\n",
    "We are building a directed and weighted network, in which weights are given by the number of positive/negative votes"
   ]
  },
  {
   "cell_type": "markdown",
   "id": "a97be783",
   "metadata": {},
   "source": [
    "## Read the data\n",
    "Given the fact that in the Votes data we only have information about the ID of the source node, we need to add information about the target ID, taken from the Post data."
   ]
  },
  {
   "cell_type": "code",
   "execution_count": 10,
   "id": "f8c84cce-ce0b-46c5-8031-ed8934914375",
   "metadata": {},
   "outputs": [],
   "source": [
    "votes1 = pd.read_csv(\"data/Votes_01052019_15052019.csv\", sep = ';')\n",
    "votes2 = pd.read_csv(\"data/Votes_16052019_31052019.csv\", sep = ';')\n",
    "\n",
    "postings1_df = pd.read_csv(\"data/Postings_01052019_15052019.csv\", sep=';')\n",
    "postings2_df = pd.read_csv(\"data/Postings_16052019_31052019.csv\", sep=';')"
   ]
  },
  {
   "cell_type": "code",
   "execution_count": 11,
   "id": "10c83214-2282-48c3-968f-9dd928006534",
   "metadata": {},
   "outputs": [
    {
     "data": {
      "text/html": [
       "<div>\n",
       "<style scoped>\n",
       "    .dataframe tbody tr th:only-of-type {\n",
       "        vertical-align: middle;\n",
       "    }\n",
       "\n",
       "    .dataframe tbody tr th {\n",
       "        vertical-align: top;\n",
       "    }\n",
       "\n",
       "    .dataframe thead th {\n",
       "        text-align: right;\n",
       "    }\n",
       "</style>\n",
       "<table border=\"1\" class=\"dataframe\">\n",
       "  <thead>\n",
       "    <tr style=\"text-align: right;\">\n",
       "      <th></th>\n",
       "      <th>source</th>\n",
       "      <th>ID_Posting</th>\n",
       "      <th>VoteNegative</th>\n",
       "      <th>VotePositive</th>\n",
       "      <th>VoteCreatedAt</th>\n",
       "      <th>UserCommunityName</th>\n",
       "      <th>UserGender</th>\n",
       "      <th>AccountAge</th>\n",
       "    </tr>\n",
       "  </thead>\n",
       "  <tbody>\n",
       "    <tr>\n",
       "      <th>0</th>\n",
       "      <td>675862</td>\n",
       "      <td>1041076570</td>\n",
       "      <td>1</td>\n",
       "      <td>0</td>\n",
       "      <td>2019-05-06 16:47:46.883</td>\n",
       "      <td>Heckscheibenwischer</td>\n",
       "      <td>m</td>\n",
       "      <td>6</td>\n",
       "    </tr>\n",
       "    <tr>\n",
       "      <th>1</th>\n",
       "      <td>689023</td>\n",
       "      <td>1041076570</td>\n",
       "      <td>1</td>\n",
       "      <td>0</td>\n",
       "      <td>2019-05-01 22:19:06.240</td>\n",
       "      <td>Heinz Fettleber</td>\n",
       "      <td>NaN</td>\n",
       "      <td>5</td>\n",
       "    </tr>\n",
       "    <tr>\n",
       "      <th>2</th>\n",
       "      <td>24810</td>\n",
       "      <td>1041076745</td>\n",
       "      <td>0</td>\n",
       "      <td>1</td>\n",
       "      <td>2019-05-01 23:54:54.600</td>\n",
       "      <td>Bruce Campbell</td>\n",
       "      <td>m</td>\n",
       "      <td>13</td>\n",
       "    </tr>\n",
       "    <tr>\n",
       "      <th>3</th>\n",
       "      <td>673781</td>\n",
       "      <td>1041076745</td>\n",
       "      <td>0</td>\n",
       "      <td>1</td>\n",
       "      <td>2019-05-01 20:59:29.910</td>\n",
       "      <td>Erdäpfelsack</td>\n",
       "      <td>NaN</td>\n",
       "      <td>6</td>\n",
       "    </tr>\n",
       "    <tr>\n",
       "      <th>4</th>\n",
       "      <td>24810</td>\n",
       "      <td>1041076831</td>\n",
       "      <td>0</td>\n",
       "      <td>1</td>\n",
       "      <td>2019-05-01 23:51:42.730</td>\n",
       "      <td>Bruce Campbell</td>\n",
       "      <td>m</td>\n",
       "      <td>13</td>\n",
       "    </tr>\n",
       "  </tbody>\n",
       "</table>\n",
       "</div>"
      ],
      "text/plain": [
       "   source  ID_Posting  VoteNegative  VotePositive            VoteCreatedAt  \\\n",
       "0  675862  1041076570             1             0  2019-05-06 16:47:46.883   \n",
       "1  689023  1041076570             1             0  2019-05-01 22:19:06.240   \n",
       "2   24810  1041076745             0             1  2019-05-01 23:54:54.600   \n",
       "3  673781  1041076745             0             1  2019-05-01 20:59:29.910   \n",
       "4   24810  1041076831             0             1  2019-05-01 23:51:42.730   \n",
       "\n",
       "     UserCommunityName UserGender  AccountAge  \n",
       "0  Heckscheibenwischer          m           6  \n",
       "1      Heinz Fettleber        NaN           5  \n",
       "2       Bruce Campbell          m          13  \n",
       "3         Erdäpfelsack        NaN           6  \n",
       "4       Bruce Campbell          m          13  "
      ]
     },
     "execution_count": 11,
     "metadata": {},
     "output_type": "execute_result"
    }
   ],
   "source": [
    "# Create a unique dataframe and rename ID_CommunityIdentity column\n",
    "votes_df = pd.concat([votes1, votes2]).rename(columns={'ID_CommunityIdentity': 'source'})\n",
    "\n",
    "# Convert the creation date of the account to the age of the account\n",
    "votes_df['UserCreatedAt'] = 2024 - (pd.to_datetime(votes_df['UserCreatedAt']).dt.year)\n",
    "votes_df = votes_df.rename(columns={'UserCreatedAt': 'AccountAge'})\n",
    "\n",
    "votes_df.head()"
   ]
  },
  {
   "cell_type": "code",
   "execution_count": 12,
   "id": "18191d53-b44e-45e0-abe8-45734e71d960",
   "metadata": {},
   "outputs": [
    {
     "name": "stdout",
     "output_type": "stream",
     "text": [
      "3824984\n",
      "29933\n"
     ]
    }
   ],
   "source": [
    "# Let us see how many unique users we have in the dataset - they will be the nodes of the networks\n",
    "print(len(votes_df))\n",
    "print(len(votes_df['source'].unique()))"
   ]
  },
  {
   "cell_type": "markdown",
   "id": "66bd2ab0",
   "metadata": {},
   "source": [
    "## Nodes attributes\n",
    "Now we create a separate dataframe in which we store the attributes for each user in the blog - they will be the attributes of each node in the networks. \n",
    "\n",
    "For this analysis we are interested in:\n",
    "- gender of the user\n",
    "- age of the account"
   ]
  },
  {
   "cell_type": "code",
   "execution_count": 13,
   "id": "e9ec62bf",
   "metadata": {},
   "outputs": [
    {
     "data": {
      "text/plain": [
       "29933"
      ]
     },
     "execution_count": 13,
     "metadata": {},
     "output_type": "execute_result"
    }
   ],
   "source": [
    "# Get df attribute\n",
    "# Extract nodes attributes and store them in a pandas df - assuming that one node is a user\n",
    "df_attributes = votes_df[['source', 'UserGender', 'AccountAge']].drop_duplicates()\n",
    "len(df_attributes)"
   ]
  },
  {
   "cell_type": "markdown",
   "id": "ba3a8b41",
   "metadata": {},
   "source": [
    "## Merge the postings and votes datasets"
   ]
  },
  {
   "cell_type": "code",
   "execution_count": 14,
   "id": "2d02c002-e0e2-4c2a-93d3-f241d1bc4887",
   "metadata": {},
   "outputs": [
    {
     "data": {
      "text/html": [
       "<div>\n",
       "<style scoped>\n",
       "    .dataframe tbody tr th:only-of-type {\n",
       "        vertical-align: middle;\n",
       "    }\n",
       "\n",
       "    .dataframe tbody tr th {\n",
       "        vertical-align: top;\n",
       "    }\n",
       "\n",
       "    .dataframe thead th {\n",
       "        text-align: right;\n",
       "    }\n",
       "</style>\n",
       "<table border=\"1\" class=\"dataframe\">\n",
       "  <thead>\n",
       "    <tr style=\"text-align: right;\">\n",
       "      <th></th>\n",
       "      <th>ID_Posting</th>\n",
       "      <th>target</th>\n",
       "      <th>ArticleChannel</th>\n",
       "    </tr>\n",
       "  </thead>\n",
       "  <tbody>\n",
       "    <tr>\n",
       "      <th>0</th>\n",
       "      <td>1041073586</td>\n",
       "      <td>671476</td>\n",
       "      <td>Inland</td>\n",
       "    </tr>\n",
       "    <tr>\n",
       "      <th>1</th>\n",
       "      <td>1041073839</td>\n",
       "      <td>566938</td>\n",
       "      <td>Inland</td>\n",
       "    </tr>\n",
       "    <tr>\n",
       "      <th>2</th>\n",
       "      <td>1041073872</td>\n",
       "      <td>669286</td>\n",
       "      <td>Inland</td>\n",
       "    </tr>\n",
       "    <tr>\n",
       "      <th>3</th>\n",
       "      <td>1041080734</td>\n",
       "      <td>671476</td>\n",
       "      <td>Inland</td>\n",
       "    </tr>\n",
       "    <tr>\n",
       "      <th>4</th>\n",
       "      <td>1041080828</td>\n",
       "      <td>671476</td>\n",
       "      <td>Inland</td>\n",
       "    </tr>\n",
       "  </tbody>\n",
       "</table>\n",
       "</div>"
      ],
      "text/plain": [
       "   ID_Posting  target ArticleChannel\n",
       "0  1041073586  671476         Inland\n",
       "1  1041073839  566938         Inland\n",
       "2  1041073872  669286         Inland\n",
       "3  1041080734  671476         Inland\n",
       "4  1041080828  671476         Inland"
      ]
     },
     "execution_count": 14,
     "metadata": {},
     "output_type": "execute_result"
    }
   ],
   "source": [
    "postings = pd.concat([postings1_df, postings2_df])\n",
    "postings = postings[['ID_Posting', 'ID_CommunityIdentity', 'ArticleChannel']].rename(columns={'ID_CommunityIdentity': 'target'})\n",
    "postings.head()"
   ]
  },
  {
   "cell_type": "code",
   "execution_count": 15,
   "id": "cf40e435-7de7-4a61-97be-d2a6f6f3609e",
   "metadata": {},
   "outputs": [
    {
     "data": {
      "text/html": [
       "<div>\n",
       "<style scoped>\n",
       "    .dataframe tbody tr th:only-of-type {\n",
       "        vertical-align: middle;\n",
       "    }\n",
       "\n",
       "    .dataframe tbody tr th {\n",
       "        vertical-align: top;\n",
       "    }\n",
       "\n",
       "    .dataframe thead th {\n",
       "        text-align: right;\n",
       "    }\n",
       "</style>\n",
       "<table border=\"1\" class=\"dataframe\">\n",
       "  <thead>\n",
       "    <tr style=\"text-align: right;\">\n",
       "      <th></th>\n",
       "      <th>ID_Posting</th>\n",
       "      <th>target</th>\n",
       "      <th>ArticleChannel</th>\n",
       "      <th>source</th>\n",
       "      <th>VoteNegative</th>\n",
       "      <th>VotePositive</th>\n",
       "      <th>VoteCreatedAt</th>\n",
       "      <th>UserCommunityName</th>\n",
       "      <th>UserGender</th>\n",
       "      <th>AccountAge</th>\n",
       "    </tr>\n",
       "  </thead>\n",
       "  <tbody>\n",
       "    <tr>\n",
       "      <th>0</th>\n",
       "      <td>1041073586</td>\n",
       "      <td>671476</td>\n",
       "      <td>Inland</td>\n",
       "      <td>572203</td>\n",
       "      <td>0</td>\n",
       "      <td>1</td>\n",
       "      <td>2019-05-01 18:46:37.437</td>\n",
       "      <td>Hollerbusch</td>\n",
       "      <td>w</td>\n",
       "      <td>9</td>\n",
       "    </tr>\n",
       "    <tr>\n",
       "      <th>1</th>\n",
       "      <td>1041073586</td>\n",
       "      <td>671476</td>\n",
       "      <td>Inland</td>\n",
       "      <td>206222</td>\n",
       "      <td>0</td>\n",
       "      <td>1</td>\n",
       "      <td>2019-05-01 18:38:54.227</td>\n",
       "      <td>Talerkogel</td>\n",
       "      <td>m</td>\n",
       "      <td>23</td>\n",
       "    </tr>\n",
       "    <tr>\n",
       "      <th>2</th>\n",
       "      <td>1041073586</td>\n",
       "      <td>671476</td>\n",
       "      <td>Inland</td>\n",
       "      <td>212488</td>\n",
       "      <td>0</td>\n",
       "      <td>1</td>\n",
       "      <td>2019-05-01 22:43:43.030</td>\n",
       "      <td>Chucho</td>\n",
       "      <td>m</td>\n",
       "      <td>13</td>\n",
       "    </tr>\n",
       "    <tr>\n",
       "      <th>3</th>\n",
       "      <td>1041080734</td>\n",
       "      <td>671476</td>\n",
       "      <td>Inland</td>\n",
       "      <td>581206</td>\n",
       "      <td>0</td>\n",
       "      <td>1</td>\n",
       "      <td>2019-05-01 23:31:04.717</td>\n",
       "      <td>wertekonservativ</td>\n",
       "      <td>m</td>\n",
       "      <td>8</td>\n",
       "    </tr>\n",
       "    <tr>\n",
       "      <th>4</th>\n",
       "      <td>1041080734</td>\n",
       "      <td>671476</td>\n",
       "      <td>Inland</td>\n",
       "      <td>25580</td>\n",
       "      <td>0</td>\n",
       "      <td>1</td>\n",
       "      <td>2019-05-01 23:30:32.150</td>\n",
       "      <td>CEEIT</td>\n",
       "      <td>m</td>\n",
       "      <td>18</td>\n",
       "    </tr>\n",
       "  </tbody>\n",
       "</table>\n",
       "</div>"
      ],
      "text/plain": [
       "   ID_Posting  target ArticleChannel  source  VoteNegative  VotePositive  \\\n",
       "0  1041073586  671476         Inland  572203             0             1   \n",
       "1  1041073586  671476         Inland  206222             0             1   \n",
       "2  1041073586  671476         Inland  212488             0             1   \n",
       "3  1041080734  671476         Inland  581206             0             1   \n",
       "4  1041080734  671476         Inland   25580             0             1   \n",
       "\n",
       "             VoteCreatedAt UserCommunityName UserGender  AccountAge  \n",
       "0  2019-05-01 18:46:37.437       Hollerbusch          w           9  \n",
       "1  2019-05-01 18:38:54.227        Talerkogel          m          23  \n",
       "2  2019-05-01 22:43:43.030            Chucho          m          13  \n",
       "3  2019-05-01 23:31:04.717  wertekonservativ          m           8  \n",
       "4  2019-05-01 23:30:32.150             CEEIT          m          18  "
      ]
     },
     "execution_count": 15,
     "metadata": {},
     "output_type": "execute_result"
    }
   ],
   "source": [
    "finalvotes_df = pd.merge(postings, votes_df, on='ID_Posting')\n",
    "finalvotes_df.head()"
   ]
  },
  {
   "cell_type": "code",
   "execution_count": 16,
   "id": "4edcd130",
   "metadata": {},
   "outputs": [],
   "source": [
    "# Split in like dislike - so that two networks can be created\n",
    "finalvotes_df_like = finalvotes_df[finalvotes_df['VotePositive'] == 1]\n",
    "finalvotes_df_dislike = finalvotes_df[finalvotes_df['VotePositive'] == 0]"
   ]
  },
  {
   "cell_type": "markdown",
   "id": "e7b857f1",
   "metadata": {},
   "source": [
    "## Filter data according to the Article Channel"
   ]
  },
  {
   "cell_type": "markdown",
   "id": "fba8eec4",
   "metadata": {},
   "source": [
    "Due to high amount of data, we decided to measure the assortative mixing coefficients for some subgroups. To do so, data is split according to the article channel of the post and a dictionary of datasets is created to store all the different data related to each topic. "
   ]
  },
  {
   "cell_type": "markdown",
   "id": "5684ff70",
   "metadata": {},
   "source": [
    "### LIKE"
   ]
  },
  {
   "cell_type": "code",
   "execution_count": 17,
   "id": "b8dcd05b",
   "metadata": {},
   "outputs": [],
   "source": [
    "# Group the DataFrame by the 'ArticleChannel' column\n",
    "grouped_df_like = finalvotes_df_like.groupby('ArticleChannel')\n",
    "\n",
    "# Create a dictionary to store DataFrames based on ArticleChannel\n",
    "channel_dfs_like = {}\n",
    "\n",
    "# Iterate through the grouped DataFrame and create individual DataFrames\n",
    "for channel, channel_group in grouped_df_like:\n",
    "    channel_dfs_like[channel] = channel_group.copy()"
   ]
  },
  {
   "cell_type": "code",
   "execution_count": 18,
   "id": "5ad2c424",
   "metadata": {},
   "outputs": [
    {
     "name": "stdout",
     "output_type": "stream",
     "text": [
      "Shape of DataFrame for AutoMobil: (46330, 10)\n",
      "Shape of DataFrame for Bildung: (27890, 10)\n",
      "Shape of DataFrame for Diverses: (17733, 10)\n",
      "Shape of DataFrame for Etat: (156791, 10)\n",
      "Shape of DataFrame for Familie: (12420, 10)\n",
      "Shape of DataFrame for Gesundheit: (32391, 10)\n",
      "Shape of DataFrame for Immobilien: (14380, 10)\n",
      "Shape of DataFrame for Inland: (841785, 10)\n",
      "Shape of DataFrame for International: (199221, 10)\n",
      "Shape of DataFrame for Karriere: (9983, 10)\n",
      "Shape of DataFrame for Kultur: (94931, 10)\n",
      "Shape of DataFrame for Lifestyle: (44028, 10)\n",
      "Shape of DataFrame for Meinung: (397399, 10)\n",
      "Shape of DataFrame for Panorama: (447382, 10)\n",
      "Shape of DataFrame for Reisen: (10667, 10)\n",
      "Shape of DataFrame for Sport: (130955, 10)\n",
      "Shape of DataFrame for User: (52865, 10)\n",
      "Shape of DataFrame for Web: (238988, 10)\n",
      "Shape of DataFrame for Wirtschaft: (160545, 10)\n",
      "Shape of DataFrame for Wissenschaft: (41044, 10)\n",
      "Shape of DataFrame for Zukunft: (9463, 10)\n",
      "Shape of DataFrame for dieStandard: (25564, 10)\n"
     ]
    }
   ],
   "source": [
    "# Iterate through the dictionary and print the shape of each DataFrame\n",
    "for channel, df in channel_dfs_like.items():\n",
    "    print(f\"Shape of DataFrame for {channel}: {df.shape}\")"
   ]
  },
  {
   "cell_type": "markdown",
   "id": "171cdaa4",
   "metadata": {},
   "source": [
    "### DISLIKE"
   ]
  },
  {
   "cell_type": "code",
   "execution_count": 19,
   "id": "345d236e",
   "metadata": {},
   "outputs": [],
   "source": [
    "# Group the DataFrame by the 'ArticleChannel' column\n",
    "grouped_df_dislike = finalvotes_df_dislike.groupby('ArticleChannel')\n",
    "\n",
    "# Create a dictionary to store DataFrames based on ArticleChannel\n",
    "channel_dfs_dislike = {}\n",
    "\n",
    "# Iterate through the grouped DataFrame and create individual DataFrames\n",
    "for channel, channel_group in grouped_df_dislike:\n",
    "    channel_dfs_dislike[channel] = channel_group.copy()"
   ]
  },
  {
   "cell_type": "code",
   "execution_count": 22,
   "id": "fdae5def",
   "metadata": {},
   "outputs": [
    {
     "name": "stdout",
     "output_type": "stream",
     "text": [
      "Shape of DataFrame for AutoMobil: (5366, 10)\n",
      "Shape of DataFrame for Bildung: (8997, 10)\n",
      "Shape of DataFrame for Diverses: (5758, 10)\n",
      "Shape of DataFrame for Etat: (37614, 10)\n",
      "Shape of DataFrame for Familie: (2690, 10)\n",
      "Shape of DataFrame for Gesundheit: (10657, 10)\n",
      "Shape of DataFrame for Immobilien: (3797, 10)\n",
      "Shape of DataFrame for Inland: (218431, 10)\n",
      "Shape of DataFrame for International: (74615, 10)\n",
      "Shape of DataFrame for Karriere: (1489, 10)\n",
      "Shape of DataFrame for Kultur: (27744, 10)\n",
      "Shape of DataFrame for Lifestyle: (6408, 10)\n",
      "Shape of DataFrame for Meinung: (127610, 10)\n",
      "Shape of DataFrame for Panorama: (122928, 10)\n",
      "Shape of DataFrame for Reisen: (2043, 10)\n",
      "Shape of DataFrame for Sport: (35459, 10)\n",
      "Shape of DataFrame for User: (3538, 10)\n",
      "Shape of DataFrame for Web: (49653, 10)\n",
      "Shape of DataFrame for Wirtschaft: (45756, 10)\n",
      "Shape of DataFrame for Wissenschaft: (9807, 10)\n",
      "Shape of DataFrame for Zukunft: (3587, 10)\n",
      "Shape of DataFrame for dieStandard: (8282, 10)\n"
     ]
    }
   ],
   "source": [
    "# Iterate through the dictionary and print the shape of each DataFrame\n",
    "for channel, df in channel_dfs_dislike.items():\n",
    "    print(f\"Shape of DataFrame for {channel}: {df.shape}\")"
   ]
  },
  {
   "cell_type": "markdown",
   "id": "f228b013",
   "metadata": {},
   "source": [
    "For both likes and dislike networks, we focused only on a subset of channels, namely\n",
    "- Sport\n",
    "- Economy\n",
    "- Culture\n",
    "- Education\n",
    "- Career\n",
    "- Family\n",
    "- Inland (for politics)"
   ]
  },
  {
   "cell_type": "code",
   "execution_count": 21,
   "id": "d7f3ffd8",
   "metadata": {},
   "outputs": [],
   "source": [
    "selected_channels = ['Wirtschaft', 'Sport', 'Kultur', 'Bildung', 'Karriere', 'Familie', 'Inland']  #'Wirtschaft', 'Sport', 'Kultur', 'Bildung', 'Karriere', 'Familie'  # remember to add Inland\n",
    "\n",
    "filtered_dict_like = {k: v for k, v in channel_dfs_like.items() if k in selected_channels}\n",
    "filtered_dict_dislike = {k: v for k, v in channel_dfs_dislike.items() if k in selected_channels}"
   ]
  },
  {
   "cell_type": "markdown",
   "id": "ce0a1ec2",
   "metadata": {},
   "source": [
    "## Create the networks"
   ]
  },
  {
   "cell_type": "markdown",
   "id": "5e17b26a",
   "metadata": {},
   "source": [
    "### LIKES\n",
    "We firts focus our attention on the like network. For each DataFrame in filtered_dict_like, we create a weighted graph (with characteristics stated above). We store the graphs in a dictionary, called graph_like.\n",
    "\n",
    "Due to the amout of data, we try to use vectorized operations to make the code efficient."
   ]
  },
  {
   "cell_type": "code",
   "execution_count": 22,
   "id": "a6a280a4",
   "metadata": {},
   "outputs": [],
   "source": [
    "graph_like = {} \n",
    "\n",
    "# Iterate through the dictionary of DataFrames\n",
    "for channel, df in filtered_dict_like.items():\n",
    "        \n",
    "    # Create an empty graph\n",
    "    G = nx.Graph()\n",
    "\n",
    "    # Extract columns into variables\n",
    "    targets = df['target']\n",
    "    sources = df['source']\n",
    "\n",
    "    # Create edges using vectorized operations\n",
    "    edges = list(zip(sources, targets))\n",
    "    G.add_edges_from(edges)\n",
    "\n",
    "    # Increment weights using Counter\n",
    "    edge_weights = dict(Counter(edges))\n",
    "    for (u, v), weight in edge_weights.items():\n",
    "        G[u][v]['weight'] = weight\n",
    "\n",
    "    # Use vectorized operations for attributes\n",
    "    valid_nodes = df_attributes['source'].isin(G.nodes())\n",
    "    valid_rows = df_attributes[valid_nodes & (df_attributes['UserGender'].isin(['m', 'f'])) & (df_attributes['AccountAge'] > 0)]\n",
    "\n",
    "    # Set node attributes\n",
    "    gender_dict = dict(zip(valid_rows['source'], valid_rows['UserGender']))\n",
    "    age_dict = dict(zip(valid_rows['source'], valid_rows['AccountAge']))\n",
    "    nx.set_node_attributes(G, gender_dict, 'gender')\n",
    "    nx.set_node_attributes(G, age_dict, 'age')\n",
    "\n",
    "    # Add the graph to the dictionary\n",
    "    graph_like[channel] = G\n"
   ]
  },
  {
   "cell_type": "markdown",
   "id": "ceb2941c",
   "metadata": {},
   "source": [
    "### Results\n",
    "No assortative mixing can be observed according to the obtained results. Indeed all obtained coefficients are very close to zero. "
   ]
  },
  {
   "cell_type": "code",
   "execution_count": 23,
   "id": "e52b1510",
   "metadata": {},
   "outputs": [
    {
     "name": "stdout",
     "output_type": "stream",
     "text": [
      "Channel: Bildung\n",
      "Assortative Mixing by Gender: 0.0061\n",
      "Assortative Mixing by Age: 0.0012\n",
      "Assortive mixing by degree: -0.1465\n",
      "------------------------------------------------------\n",
      "Channel: Familie\n",
      "Assortative Mixing by Gender: 0.0434\n",
      "Assortative Mixing by Age: 0.0165\n",
      "Assortive mixing by degree: -0.1033\n",
      "------------------------------------------------------\n",
      "Channel: Inland\n",
      "Assortative Mixing by Gender: 0.0053\n",
      "Assortative Mixing by Age: 0.0023\n",
      "Assortive mixing by degree: -0.0578\n",
      "------------------------------------------------------\n",
      "Channel: Karriere\n",
      "Assortative Mixing by Gender: 0.0205\n",
      "Assortative Mixing by Age: 0.0063\n",
      "Assortive mixing by degree: -0.1233\n",
      "------------------------------------------------------\n",
      "Channel: Kultur\n",
      "Assortative Mixing by Gender: 0.0215\n",
      "Assortative Mixing by Age: 0.0056\n",
      "Assortive mixing by degree: -0.0693\n",
      "------------------------------------------------------\n",
      "Channel: Sport\n",
      "Assortative Mixing by Gender: 0.0179\n",
      "Assortative Mixing by Age: 0.0039\n",
      "Assortive mixing by degree: -0.0503\n",
      "------------------------------------------------------\n",
      "Channel: Wirtschaft\n",
      "Assortative Mixing by Gender: 0.0202\n",
      "Assortative Mixing by Age: 0.0046\n",
      "Assortive mixing by degree: -0.0472\n",
      "------------------------------------------------------\n"
     ]
    }
   ],
   "source": [
    "# Iterate through the dictionary of graphs\n",
    "for channel, G in graph_like.items():\n",
    "    # Compute assortative mixing by gender and age\n",
    "    assortativity_gender = nx.attribute_assortativity_coefficient(G, attribute='gender')\n",
    "    assortativity_age = nx.attribute_assortativity_coefficient(G, attribute='age')\n",
    "    degree_assortativity = nx.degree_assortativity_coefficient(G)\n",
    "\n",
    "    # Print results with channel name\n",
    "    print(f\"Channel: {channel}\")\n",
    "    print(f\"Assortative Mixing by Gender: {assortativity_gender:.4f}\")\n",
    "    print(f\"Assortative Mixing by Age: {assortativity_age:.4f}\")\n",
    "    print(f\"Assortive mixing by degree: {degree_assortativity:.4f}\")\n",
    "    print('------------------------------------------------------')"
   ]
  },
  {
   "cell_type": "markdown",
   "id": "25000494",
   "metadata": {},
   "source": [
    "### DILIKES\n",
    "We peform the same operations for obtaining the networks in which edges are negative votes"
   ]
  },
  {
   "cell_type": "code",
   "execution_count": 24,
   "id": "9a6b23af",
   "metadata": {},
   "outputs": [],
   "source": [
    "graph_dislike = {} \n",
    "\n",
    "# Iterate through the dictionary of DataFrames\n",
    "for channel, df in filtered_dict_dislike.items():\n",
    "        \n",
    "    # Create an empty graph\n",
    "    G = nx.Graph()\n",
    "\n",
    "    # Extract columns into variables\n",
    "    targets = df['target']\n",
    "    sources = df['source']\n",
    "\n",
    "    # Create edges using vectorized operations\n",
    "    edges = list(zip(sources, targets))\n",
    "    G.add_edges_from(edges)\n",
    "\n",
    "    # Increment weights using Counter\n",
    "    edge_weights = dict(Counter(edges))\n",
    "    for (u, v), weight in edge_weights.items():\n",
    "        G[u][v]['weight'] = weight\n",
    "\n",
    "    # Use vectorized operations for attributes\n",
    "    valid_nodes = df_attributes['source'].isin(G.nodes())\n",
    "    valid_rows = df_attributes[valid_nodes & (df_attributes['UserGender'].isin(['m', 'f'])) & (df_attributes['AccountAge'] > 0)]\n",
    "\n",
    "    # Set node attributes\n",
    "    gender_dict = dict(zip(valid_rows['source'], valid_rows['UserGender']))\n",
    "    age_dict = dict(zip(valid_rows['source'], valid_rows['AccountAge']))\n",
    "    nx.set_node_attributes(G, gender_dict, 'gender')\n",
    "    nx.set_node_attributes(G, age_dict, 'age')\n",
    "\n",
    "    # Add the graph to the dictionary\n",
    "    graph_dislike[channel] = G\n"
   ]
  },
  {
   "cell_type": "markdown",
   "id": "a3da89a5",
   "metadata": {},
   "source": [
    "### Results\n",
    "Also in this network no significant results have been found, as, again, all obtained coefficients are very close to 0."
   ]
  },
  {
   "cell_type": "code",
   "execution_count": 17,
   "id": "254d6082",
   "metadata": {},
   "outputs": [
    {
     "name": "stdout",
     "output_type": "stream",
     "text": [
      "Channel: Bildung\n",
      "Assortative Mixing by Gender: 0.0208\n",
      "Assortative Mixing by Age: 0.0065\n",
      "Assortive mixing by degree: -0.1905\n",
      "------------------------------------------------------\n",
      "Channel: Familie\n",
      "Assortative Mixing by Gender: 0.0315\n",
      "Assortative Mixing by Age: 0.0092\n",
      "Assortive mixing by degree: -0.2691\n",
      "------------------------------------------------------\n",
      "Channel: Inland\n",
      "Assortative Mixing by Gender: -0.0042\n",
      "Assortative Mixing by Age: -0.0014\n",
      "Assortive mixing by degree: -0.1188\n",
      "------------------------------------------------------\n",
      "Channel: Karriere\n",
      "Assortative Mixing by Gender: 0.0460\n",
      "Assortative Mixing by Age: 0.0100\n",
      "Assortive mixing by degree: -0.1773\n",
      "------------------------------------------------------\n",
      "Channel: Kultur\n",
      "Assortative Mixing by Gender: -0.0015\n",
      "Assortative Mixing by Age: -0.0027\n",
      "Assortive mixing by degree: -0.1550\n",
      "------------------------------------------------------\n",
      "Channel: Sport\n",
      "Assortative Mixing by Gender: -0.0129\n",
      "Assortative Mixing by Age: -0.0033\n",
      "Assortive mixing by degree: -0.1198\n",
      "------------------------------------------------------\n",
      "Channel: Wirtschaft\n",
      "Assortative Mixing by Gender: -0.0048\n",
      "Assortative Mixing by Age: -0.0010\n",
      "Assortive mixing by degree: -0.1098\n",
      "------------------------------------------------------\n"
     ]
    }
   ],
   "source": [
    "# Iterate through the dictionary of graphs\n",
    "for channel, G in graph_dislike.items():\n",
    "    # Compute assortative mixing by gender and age\n",
    "    assortativity_gender = nx.attribute_assortativity_coefficient(G, attribute='gender')\n",
    "    assortativity_age = nx.attribute_assortativity_coefficient(G, attribute='age')\n",
    "    degree_assortativity = nx.degree_assortativity_coefficient(G)\n",
    "\n",
    "    # Print results with channel name\n",
    "    print(f\"Channel: {channel}\")\n",
    "    print(f\"Assortative Mixing by Gender: {assortativity_gender:.4f}\")\n",
    "    print(f\"Assortative Mixing by Age: {assortativity_age:.4f}\")\n",
    "    print(f\"Assortive mixing by degree: {degree_assortativity:.4f}\")\n",
    "    print('------------------------------------------------------')"
   ]
  }
 ],
 "metadata": {
  "kernelspec": {
   "display_name": "Python 3 (ipykernel)",
   "language": "python",
   "name": "python3"
  },
  "language_info": {
   "codemirror_mode": {
    "name": "ipython",
    "version": 3
   },
   "file_extension": ".py",
   "mimetype": "text/x-python",
   "name": "python",
   "nbconvert_exporter": "python",
   "pygments_lexer": "ipython3",
   "version": "3.10.13"
  }
 },
 "nbformat": 4,
 "nbformat_minor": 5
}
