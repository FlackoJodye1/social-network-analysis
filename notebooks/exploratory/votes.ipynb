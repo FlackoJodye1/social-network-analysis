{
 "cells": [
  {
   "cell_type": "code",
   "execution_count": 41,
   "outputs": [],
   "source": [
    "import pandas as pd\n",
    "import networkx as nx\n",
    "from pathlib import Path"
   ],
   "metadata": {
    "collapsed": false
   }
  },
  {
   "cell_type": "markdown",
   "source": [
    "# Setup & Imports"
   ],
   "metadata": {
    "collapsed": false
   }
  },
  {
   "cell_type": "code",
   "execution_count": 42,
   "metadata": {
    "collapsed": true
   },
   "outputs": [],
   "source": [
    "DATA_DIR = Path(\"../../data/raw/\")\n",
    "filename_votes_first = \"Votes_01052019_15052019.csv\"\n",
    "filename_votes_second = \"Votes_16052019_31052019.csv\"\n",
    "\n",
    "filename_postings_first = \"Postings_01052019_15052019.csv\"\n",
    "filename_postings_second = \"Postings_01052019_15052019.csv\"\n",
    "\n",
    "# use this output-path for saving figures\n",
    "FIG_OUTPUT_PATH = Path(\"../../reports/figures/votes/\")"
   ]
  },
  {
   "cell_type": "code",
   "execution_count": 43,
   "outputs": [],
   "source": [
    "votes_first = pd.read_csv(DATA_DIR / filename_votes_first, sep=';')\n",
    "votes_second = pd.read_csv(DATA_DIR / filename_votes_second, sep=';')\n",
    "\n",
    "postings_first = pd.read_csv(DATA_DIR / filename_postings_first, sep=';')\n",
    "postings_second = pd.read_csv(DATA_DIR / filename_postings_second, sep=';')"
   ],
   "metadata": {
    "collapsed": false
   }
  },
  {
   "cell_type": "code",
   "execution_count": 44,
   "outputs": [],
   "source": [
    "votes = pd.concat([votes_first, votes_second])\n",
    "postings = pd.concat([postings_first, postings_second])"
   ],
   "metadata": {
    "collapsed": false
   }
  },
  {
   "cell_type": "markdown",
   "source": [
    "# Basic Exploration"
   ],
   "metadata": {
    "collapsed": false
   }
  },
  {
   "cell_type": "code",
   "execution_count": 48,
   "outputs": [
    {
     "data": {
      "text/plain": "Index(['ID_Posting', 'ID_Posting_Parent', 'ID_CommunityIdentity',\n       'PostingHeadline', 'PostingComment', 'PostingCreatedAt', 'ID_Article',\n       'ArticlePublishingDate', 'ArticleTitle', 'ArticleChannel',\n       'ArticleRessortName', 'UserCommunityName', 'UserGender',\n       'UserCreatedAt'],\n      dtype='object')"
     },
     "execution_count": 48,
     "metadata": {},
     "output_type": "execute_result"
    }
   ],
   "source": [
    "postings.columns"
   ],
   "metadata": {
    "collapsed": false
   }
  },
  {
   "cell_type": "code",
   "execution_count": 59,
   "outputs": [],
   "source": [
    "postings = postings[[\"ID_Posting\", \"ID_CommunityIdentity\",  \"UserCommunityName\", \"UserGender\"]]"
   ],
   "metadata": {
    "collapsed": false
   }
  },
  {
   "cell_type": "code",
   "execution_count": 60,
   "outputs": [
    {
     "data": {
      "text/plain": "   ID_Posting  ID_CommunityIdentity UserCommunityName UserGender\n0  1041073586                671476       Ravenspower        NaN\n1  1041073839                566938        AlphaRomeo          m\n2  1041073872                669286        Hpolditsch        NaN\n3  1041080734                671476       Ravenspower        NaN\n4  1041080828                671476       Ravenspower        NaN",
      "text/html": "<div>\n<style scoped>\n    .dataframe tbody tr th:only-of-type {\n        vertical-align: middle;\n    }\n\n    .dataframe tbody tr th {\n        vertical-align: top;\n    }\n\n    .dataframe thead th {\n        text-align: right;\n    }\n</style>\n<table border=\"1\" class=\"dataframe\">\n  <thead>\n    <tr style=\"text-align: right;\">\n      <th></th>\n      <th>ID_Posting</th>\n      <th>ID_CommunityIdentity</th>\n      <th>UserCommunityName</th>\n      <th>UserGender</th>\n    </tr>\n  </thead>\n  <tbody>\n    <tr>\n      <th>0</th>\n      <td>1041073586</td>\n      <td>671476</td>\n      <td>Ravenspower</td>\n      <td>NaN</td>\n    </tr>\n    <tr>\n      <th>1</th>\n      <td>1041073839</td>\n      <td>566938</td>\n      <td>AlphaRomeo</td>\n      <td>m</td>\n    </tr>\n    <tr>\n      <th>2</th>\n      <td>1041073872</td>\n      <td>669286</td>\n      <td>Hpolditsch</td>\n      <td>NaN</td>\n    </tr>\n    <tr>\n      <th>3</th>\n      <td>1041080734</td>\n      <td>671476</td>\n      <td>Ravenspower</td>\n      <td>NaN</td>\n    </tr>\n    <tr>\n      <th>4</th>\n      <td>1041080828</td>\n      <td>671476</td>\n      <td>Ravenspower</td>\n      <td>NaN</td>\n    </tr>\n  </tbody>\n</table>\n</div>"
     },
     "execution_count": 60,
     "metadata": {},
     "output_type": "execute_result"
    }
   ],
   "source": [
    "postings.head()"
   ],
   "metadata": {
    "collapsed": false
   }
  },
  {
   "cell_type": "code",
   "execution_count": 61,
   "outputs": [
    {
     "data": {
      "text/plain": "   ID_CommunityIdentity  ID_Posting  VoteNegative  VotePositive  \\\n0                675862  1041076570             1             0   \n1                689023  1041076570             1             0   \n2                 24810  1041076745             0             1   \n3                673781  1041076745             0             1   \n4                 24810  1041076831             0             1   \n\n             VoteCreatedAt    UserCommunityName UserGender  \\\n0  2019-05-06 16:47:46.883  Heckscheibenwischer          m   \n1  2019-05-01 22:19:06.240      Heinz Fettleber        NaN   \n2  2019-05-01 23:54:54.600       Bruce Campbell          m   \n3  2019-05-01 20:59:29.910         Erdäpfelsack        NaN   \n4  2019-05-01 23:51:42.730       Bruce Campbell          m   \n\n             UserCreatedAt  \n0  2018-06-26 06:04:30.513  \n1  2019-03-08 21:23:11.463  \n2  2011-01-12 16:50:40.597  \n3  2018-05-29 07:13:49.350  \n4  2011-01-12 16:50:40.597  ",
      "text/html": "<div>\n<style scoped>\n    .dataframe tbody tr th:only-of-type {\n        vertical-align: middle;\n    }\n\n    .dataframe tbody tr th {\n        vertical-align: top;\n    }\n\n    .dataframe thead th {\n        text-align: right;\n    }\n</style>\n<table border=\"1\" class=\"dataframe\">\n  <thead>\n    <tr style=\"text-align: right;\">\n      <th></th>\n      <th>ID_CommunityIdentity</th>\n      <th>ID_Posting</th>\n      <th>VoteNegative</th>\n      <th>VotePositive</th>\n      <th>VoteCreatedAt</th>\n      <th>UserCommunityName</th>\n      <th>UserGender</th>\n      <th>UserCreatedAt</th>\n    </tr>\n  </thead>\n  <tbody>\n    <tr>\n      <th>0</th>\n      <td>675862</td>\n      <td>1041076570</td>\n      <td>1</td>\n      <td>0</td>\n      <td>2019-05-06 16:47:46.883</td>\n      <td>Heckscheibenwischer</td>\n      <td>m</td>\n      <td>2018-06-26 06:04:30.513</td>\n    </tr>\n    <tr>\n      <th>1</th>\n      <td>689023</td>\n      <td>1041076570</td>\n      <td>1</td>\n      <td>0</td>\n      <td>2019-05-01 22:19:06.240</td>\n      <td>Heinz Fettleber</td>\n      <td>NaN</td>\n      <td>2019-03-08 21:23:11.463</td>\n    </tr>\n    <tr>\n      <th>2</th>\n      <td>24810</td>\n      <td>1041076745</td>\n      <td>0</td>\n      <td>1</td>\n      <td>2019-05-01 23:54:54.600</td>\n      <td>Bruce Campbell</td>\n      <td>m</td>\n      <td>2011-01-12 16:50:40.597</td>\n    </tr>\n    <tr>\n      <th>3</th>\n      <td>673781</td>\n      <td>1041076745</td>\n      <td>0</td>\n      <td>1</td>\n      <td>2019-05-01 20:59:29.910</td>\n      <td>Erdäpfelsack</td>\n      <td>NaN</td>\n      <td>2018-05-29 07:13:49.350</td>\n    </tr>\n    <tr>\n      <th>4</th>\n      <td>24810</td>\n      <td>1041076831</td>\n      <td>0</td>\n      <td>1</td>\n      <td>2019-05-01 23:51:42.730</td>\n      <td>Bruce Campbell</td>\n      <td>m</td>\n      <td>2011-01-12 16:50:40.597</td>\n    </tr>\n  </tbody>\n</table>\n</div>"
     },
     "execution_count": 61,
     "metadata": {},
     "output_type": "execute_result"
    }
   ],
   "source": [
    "votes.head()"
   ],
   "metadata": {
    "collapsed": false
   }
  },
  {
   "cell_type": "code",
   "execution_count": 64,
   "outputs": [],
   "source": [
    "merged_df = pd.merge(votes, postings, on='ID_Posting', suffixes=(\"_source\", \"_target\"))"
   ],
   "metadata": {
    "collapsed": false
   }
  },
  {
   "cell_type": "code",
   "execution_count": 65,
   "outputs": [
    {
     "data": {
      "text/plain": "   ID_CommunityIdentity_source  ID_Posting  VoteNegative  VotePositive  \\\n0                       675862  1041076570             1             0   \n1                       675862  1041076570             1             0   \n2                       689023  1041076570             1             0   \n3                       689023  1041076570             1             0   \n4                        68791  1041077081             1             0   \n\n             VoteCreatedAt UserCommunityName_source UserGender_source  \\\n0  2019-05-06 16:47:46.883      Heckscheibenwischer                 m   \n1  2019-05-06 16:47:46.883      Heckscheibenwischer                 m   \n2  2019-05-01 22:19:06.240          Heinz Fettleber               NaN   \n3  2019-05-01 22:19:06.240          Heinz Fettleber               NaN   \n4  2019-05-01 21:01:32.037                guitarero                 m   \n\n             UserCreatedAt  ID_CommunityIdentity_target  \\\n0  2018-06-26 06:04:30.513                       691035   \n1  2018-06-26 06:04:30.513                       691035   \n2  2019-03-08 21:23:11.463                       691035   \n3  2019-03-08 21:23:11.463                       691035   \n4  2004-06-30 00:34:39.990                       107237   \n\n  UserCommunityName_target UserGender_target  \n0            Kopper Stefan               NaN  \n1            Kopper Stefan               NaN  \n2            Kopper Stefan               NaN  \n3            Kopper Stefan               NaN  \n4                 hubsi990                 m  ",
      "text/html": "<div>\n<style scoped>\n    .dataframe tbody tr th:only-of-type {\n        vertical-align: middle;\n    }\n\n    .dataframe tbody tr th {\n        vertical-align: top;\n    }\n\n    .dataframe thead th {\n        text-align: right;\n    }\n</style>\n<table border=\"1\" class=\"dataframe\">\n  <thead>\n    <tr style=\"text-align: right;\">\n      <th></th>\n      <th>ID_CommunityIdentity_source</th>\n      <th>ID_Posting</th>\n      <th>VoteNegative</th>\n      <th>VotePositive</th>\n      <th>VoteCreatedAt</th>\n      <th>UserCommunityName_source</th>\n      <th>UserGender_source</th>\n      <th>UserCreatedAt</th>\n      <th>ID_CommunityIdentity_target</th>\n      <th>UserCommunityName_target</th>\n      <th>UserGender_target</th>\n    </tr>\n  </thead>\n  <tbody>\n    <tr>\n      <th>0</th>\n      <td>675862</td>\n      <td>1041076570</td>\n      <td>1</td>\n      <td>0</td>\n      <td>2019-05-06 16:47:46.883</td>\n      <td>Heckscheibenwischer</td>\n      <td>m</td>\n      <td>2018-06-26 06:04:30.513</td>\n      <td>691035</td>\n      <td>Kopper Stefan</td>\n      <td>NaN</td>\n    </tr>\n    <tr>\n      <th>1</th>\n      <td>675862</td>\n      <td>1041076570</td>\n      <td>1</td>\n      <td>0</td>\n      <td>2019-05-06 16:47:46.883</td>\n      <td>Heckscheibenwischer</td>\n      <td>m</td>\n      <td>2018-06-26 06:04:30.513</td>\n      <td>691035</td>\n      <td>Kopper Stefan</td>\n      <td>NaN</td>\n    </tr>\n    <tr>\n      <th>2</th>\n      <td>689023</td>\n      <td>1041076570</td>\n      <td>1</td>\n      <td>0</td>\n      <td>2019-05-01 22:19:06.240</td>\n      <td>Heinz Fettleber</td>\n      <td>NaN</td>\n      <td>2019-03-08 21:23:11.463</td>\n      <td>691035</td>\n      <td>Kopper Stefan</td>\n      <td>NaN</td>\n    </tr>\n    <tr>\n      <th>3</th>\n      <td>689023</td>\n      <td>1041076570</td>\n      <td>1</td>\n      <td>0</td>\n      <td>2019-05-01 22:19:06.240</td>\n      <td>Heinz Fettleber</td>\n      <td>NaN</td>\n      <td>2019-03-08 21:23:11.463</td>\n      <td>691035</td>\n      <td>Kopper Stefan</td>\n      <td>NaN</td>\n    </tr>\n    <tr>\n      <th>4</th>\n      <td>68791</td>\n      <td>1041077081</td>\n      <td>1</td>\n      <td>0</td>\n      <td>2019-05-01 21:01:32.037</td>\n      <td>guitarero</td>\n      <td>m</td>\n      <td>2004-06-30 00:34:39.990</td>\n      <td>107237</td>\n      <td>hubsi990</td>\n      <td>m</td>\n    </tr>\n  </tbody>\n</table>\n</div>"
     },
     "execution_count": 65,
     "metadata": {},
     "output_type": "execute_result"
    }
   ],
   "source": [
    "merged_df.head()"
   ],
   "metadata": {
    "collapsed": false
   }
  },
  {
   "cell_type": "code",
   "execution_count": 34,
   "outputs": [
    {
     "name": "stdout",
     "output_type": "stream",
     "text": [
      "Votes positive: 0.8 \n",
      "Votes negative: 0.2\n"
     ]
    }
   ],
   "source": [
    "positives = round(votes.VotePositive[votes.VotePositive==1].count()/len(votes), 2)\n",
    "\n",
    "print(f\"Votes positive: {positives} \\nVotes negative: {round(1-positives, 2)}\")"
   ],
   "metadata": {
    "collapsed": false
   }
  },
  {
   "cell_type": "code",
   "execution_count": 55,
   "outputs": [
    {
     "data": {
      "text/plain": "   ID_CommunityIdentity  ID_Posting  VoteNegative  VotePositive  \\\n0                675862  1041076570             1             0   \n1                689023  1041076570             1             0   \n2                 24810  1041076745             0             1   \n3                673781  1041076745             0             1   \n4                 24810  1041076831             0             1   \n\n             VoteCreatedAt    UserCommunityName UserGender  \\\n0  2019-05-06 16:47:46.883  Heckscheibenwischer          m   \n1  2019-05-01 22:19:06.240      Heinz Fettleber        NaN   \n2  2019-05-01 23:54:54.600       Bruce Campbell          m   \n3  2019-05-01 20:59:29.910         Erdäpfelsack        NaN   \n4  2019-05-01 23:51:42.730       Bruce Campbell          m   \n\n             UserCreatedAt  \n0  2018-06-26 06:04:30.513  \n1  2019-03-08 21:23:11.463  \n2  2011-01-12 16:50:40.597  \n3  2018-05-29 07:13:49.350  \n4  2011-01-12 16:50:40.597  ",
      "text/html": "<div>\n<style scoped>\n    .dataframe tbody tr th:only-of-type {\n        vertical-align: middle;\n    }\n\n    .dataframe tbody tr th {\n        vertical-align: top;\n    }\n\n    .dataframe thead th {\n        text-align: right;\n    }\n</style>\n<table border=\"1\" class=\"dataframe\">\n  <thead>\n    <tr style=\"text-align: right;\">\n      <th></th>\n      <th>ID_CommunityIdentity</th>\n      <th>ID_Posting</th>\n      <th>VoteNegative</th>\n      <th>VotePositive</th>\n      <th>VoteCreatedAt</th>\n      <th>UserCommunityName</th>\n      <th>UserGender</th>\n      <th>UserCreatedAt</th>\n    </tr>\n  </thead>\n  <tbody>\n    <tr>\n      <th>0</th>\n      <td>675862</td>\n      <td>1041076570</td>\n      <td>1</td>\n      <td>0</td>\n      <td>2019-05-06 16:47:46.883</td>\n      <td>Heckscheibenwischer</td>\n      <td>m</td>\n      <td>2018-06-26 06:04:30.513</td>\n    </tr>\n    <tr>\n      <th>1</th>\n      <td>689023</td>\n      <td>1041076570</td>\n      <td>1</td>\n      <td>0</td>\n      <td>2019-05-01 22:19:06.240</td>\n      <td>Heinz Fettleber</td>\n      <td>NaN</td>\n      <td>2019-03-08 21:23:11.463</td>\n    </tr>\n    <tr>\n      <th>2</th>\n      <td>24810</td>\n      <td>1041076745</td>\n      <td>0</td>\n      <td>1</td>\n      <td>2019-05-01 23:54:54.600</td>\n      <td>Bruce Campbell</td>\n      <td>m</td>\n      <td>2011-01-12 16:50:40.597</td>\n    </tr>\n    <tr>\n      <th>3</th>\n      <td>673781</td>\n      <td>1041076745</td>\n      <td>0</td>\n      <td>1</td>\n      <td>2019-05-01 20:59:29.910</td>\n      <td>Erdäpfelsack</td>\n      <td>NaN</td>\n      <td>2018-05-29 07:13:49.350</td>\n    </tr>\n    <tr>\n      <th>4</th>\n      <td>24810</td>\n      <td>1041076831</td>\n      <td>0</td>\n      <td>1</td>\n      <td>2019-05-01 23:51:42.730</td>\n      <td>Bruce Campbell</td>\n      <td>m</td>\n      <td>2011-01-12 16:50:40.597</td>\n    </tr>\n  </tbody>\n</table>\n</div>"
     },
     "execution_count": 55,
     "metadata": {},
     "output_type": "execute_result"
    }
   ],
   "source": [
    "votes.head()"
   ],
   "metadata": {
    "collapsed": false
   }
  },
  {
   "cell_type": "code",
   "execution_count": 50,
   "outputs": [
    {
     "data": {
      "text/plain": "14147"
     },
     "execution_count": 50,
     "metadata": {},
     "output_type": "execute_result"
    }
   ],
   "source": [
    "votes.UserCommunityName.nunique()"
   ],
   "metadata": {
    "collapsed": false
   }
  },
  {
   "cell_type": "markdown",
   "source": [
    "# Analysis"
   ],
   "metadata": {
    "collapsed": false
   }
  },
  {
   "cell_type": "markdown",
   "source": [
    "## Construct graphs"
   ],
   "metadata": {
    "collapsed": false
   }
  }
 ],
 "metadata": {
  "kernelspec": {
   "display_name": "Python 3",
   "language": "python",
   "name": "python3"
  },
  "language_info": {
   "codemirror_mode": {
    "name": "ipython",
    "version": 2
   },
   "file_extension": ".py",
   "mimetype": "text/x-python",
   "name": "python",
   "nbconvert_exporter": "python",
   "pygments_lexer": "ipython2",
   "version": "2.7.6"
  }
 },
 "nbformat": 4,
 "nbformat_minor": 0
}
